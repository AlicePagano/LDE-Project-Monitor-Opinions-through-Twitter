{
 "cells": [
  {
   "cell_type": "code",
   "execution_count": 1,
   "metadata": {
    "ExecuteTime": {
     "end_time": "2020-12-26T18:19:27.469437Z",
     "start_time": "2020-12-26T18:19:25.955820Z"
    }
   },
   "outputs": [],
   "source": [
    "# Import packages\n",
    "import os\n",
    "import pandas as pd\n",
    "import numpy as np\n",
    "import re \n",
    "import networkx as nx\n",
    "import matplotlib.pyplot as plt\n",
    "from geopy.geocoders import Nominatim\n",
    "import sys"
   ]
  },
  {
   "cell_type": "code",
   "execution_count": 2,
   "metadata": {
    "ExecuteTime": {
     "end_time": "2020-12-26T18:19:27.839922Z",
     "start_time": "2020-12-26T18:19:27.516459Z"
    }
   },
   "outputs": [
    {
     "name": "stdout",
     "output_type": "stream",
     "text": [
      "46.0306995 12.5016263\n"
     ]
    }
   ],
   "source": [
    "# PROVA\n",
    "geolocator = Nominatim(user_agent='myapplication')\n",
    "location = geolocator.geocode(\"polcenigo\")\n",
    "print(location.raw['lat'],location.raw['lon'])"
   ]
  },
  {
   "cell_type": "markdown",
   "metadata": {},
   "source": [
    "## Create province dataset"
   ]
  },
  {
   "cell_type": "code",
   "execution_count": 14,
   "metadata": {
    "ExecuteTime": {
     "end_time": "2020-12-26T18:24:56.848615Z",
     "start_time": "2020-12-26T18:24:56.819096Z"
    }
   },
   "outputs": [],
   "source": [
    "data_file = pd.read_excel('population_province.xlsx',engine='openpyxl')\n",
    "\n",
    "# Associate to each city a latitude and a longitude\n",
    "data_file['Province'] = data_file['Province'].str.lower()\n",
    "\n",
    "province = list(data_file['Province'])\n",
    "total_pop = list(data_file['Total'])"
   ]
  },
  {
   "cell_type": "code",
   "execution_count": 15,
   "metadata": {
    "ExecuteTime": {
     "end_time": "2020-12-26T18:25:50.304996Z",
     "start_time": "2020-12-26T18:24:57.009889Z"
    },
    "scrolled": true
   },
   "outputs": [
    {
     "name": "stdout",
     "output_type": "stream",
     "text": [
      "Completeness : 0.0%torino\n",
      "Completeness : 0.9%vercelli\n",
      "Completeness : 1.9%novara\n",
      "Completeness : 2.8%cuneo\n",
      "Completeness : 3.7%asti\n",
      "Completeness : 4.7%alessandria\n",
      "Completeness : 5.6%valle d'aosta\n",
      "Completeness : 6.5%imperia\n",
      "Completeness : 7.5%savona\n",
      "Completeness : 8.4%genova\n",
      "Completeness : 9.3%la spezia\n",
      "Completeness : 10.3%varese\n",
      "Completeness : 11.2%como\n",
      "Completeness : 12.1%sondrio\n",
      "Completeness : 13.1%milano\n",
      "Completeness : 14.0%bergamo\n",
      "Completeness : 15.0%brescia\n",
      "Completeness : 15.9%pavia\n",
      "Completeness : 16.8%cremona\n",
      "Completeness : 17.8%mantova\n",
      "Completeness : 18.7%bolzano/bozen\n",
      "Completeness : 19.6%trento\n",
      "Completeness : 20.6%verona\n",
      "Completeness : 21.5%vicenza\n",
      "Completeness : 22.4%belluno\n",
      "Completeness : 23.4%treviso\n",
      "Completeness : 24.3%venezia\n",
      "Completeness : 25.2%padova\n",
      "Completeness : 26.2%rovigo\n",
      "Completeness : 27.1%udine\n",
      "Completeness : 28.0%gorizia\n",
      "Completeness : 29.0%trieste\n",
      "Completeness : 29.9%piacenza\n",
      "Completeness : 30.8%parma\n",
      "Completeness : 31.8%reggio nell'emilia\n",
      "Completeness : 32.7%modena\n",
      "Completeness : 33.6%bologna\n",
      "Completeness : 34.6%ferrara\n",
      "Completeness : 35.5%ravenna\n",
      "Completeness : 36.4%cesena\n",
      "Completeness : 37.4%pesaro e urbino\n",
      "Completeness : 38.3%ancona\n",
      "Completeness : 39.3%macerata\n",
      "Completeness : 40.2%ascoli piceno\n",
      "Completeness : 41.1%massa-carrara\n",
      "Completeness : 42.1%lucca\n",
      "Completeness : 43.0%pistoia\n",
      "Completeness : 43.9%firenze\n",
      "Completeness : 44.9%livorno\n",
      "Completeness : 45.8%pisa\n",
      "Completeness : 46.7%arezzo\n",
      "Completeness : 47.7%siena\n",
      "Completeness : 48.6%grosseto\n",
      "Completeness : 49.5%perugia\n",
      "Completeness : 50.5%terni\n",
      "Completeness : 51.4%viterbo\n",
      "Completeness : 52.3%rieti\n",
      "Completeness : 53.3%roma\n",
      "Completeness : 54.2%latina\n",
      "Completeness : 55.1%frosinone\n",
      "Completeness : 56.1%caserta\n",
      "Completeness : 57.0%benevento\n",
      "Completeness : 57.9%napoli\n",
      "Completeness : 58.9%avellino\n",
      "Completeness : 59.8%salerno\n",
      "Completeness : 60.7%l'aquila\n",
      "Completeness : 61.7%teramo\n",
      "Completeness : 62.6%pescara\n",
      "Completeness : 63.6%chieti\n",
      "Completeness : 64.5%campobasso\n",
      "Completeness : 65.4%foggia\n",
      "Completeness : 66.4%bari\n",
      "Completeness : 67.3%taranto\n",
      "Completeness : 68.2%brindisi\n",
      "Completeness : 69.2%lecce\n",
      "Completeness : 70.1%potenza\n",
      "Completeness : 71.0%matera\n",
      "Completeness : 72.0%cosenza\n",
      "Completeness : 72.9%catanzaro\n",
      "Completeness : 73.8%reggio di calabria\n",
      "Completeness : 74.8%trapani\n",
      "Completeness : 75.7%palermo\n",
      "Completeness : 76.6%messina\n",
      "Completeness : 77.6%agrigento\n",
      "Completeness : 78.5%caltanissetta\n",
      "Completeness : 79.4%enna\n",
      "Completeness : 80.4%catania\n",
      "Completeness : 81.3%ragusa\n",
      "Completeness : 82.2%siracusa\n",
      "Completeness : 83.2%sassari\n",
      "Completeness : 84.1%nuoro\n",
      "Completeness : 85.0%cagliari\n",
      "Completeness : 86.0%pordenone\n",
      "Completeness : 86.9%isernia\n",
      "Completeness : 87.9%oristano\n",
      "Completeness : 88.8%biella\n",
      "Completeness : 89.7%lecco\n",
      "Completeness : 90.7%lodi\n",
      "Completeness : 91.6%rimini\n",
      "Completeness : 92.5%prato\n",
      "Completeness : 93.5%crotone\n",
      "Completeness : 94.4%vibo valentia\n",
      "Completeness : 95.3%verbano-cusio-ossola\n",
      "Completeness : 96.3%monza e della brianza\n",
      "Completeness : 97.2%fermo\n",
      "Completeness : 98.1%barletta-andria-trani\n",
      "Completeness : 99.1%sud sardegna\n"
     ]
    }
   ],
   "source": [
    "lat_list = []\n",
    "lon_list = []\n",
    "\n",
    "geolocator = Nominatim(user_agent='myapplication')\n",
    "\n",
    "patience = 1\n",
    "i = 0 \n",
    "\n",
    "for prov in province:\n",
    "    \n",
    "    if ( i % patience == 0 ):\n",
    "        sys.stdout.write(\"\\rCompleteness : \"+str(round(i/len(province)*100,1))+\"%\")\n",
    "\n",
    "    location = geolocator.geocode(prov)\n",
    "    print(prov)\n",
    "    lat = location.raw['lat']\n",
    "    lon = location.raw['lon']\n",
    "    \n",
    "    lat_list.append(lat)\n",
    "    lon_list.append(lon)\n",
    "    i=i+1"
   ]
  },
  {
   "cell_type": "code",
   "execution_count": 16,
   "metadata": {
    "ExecuteTime": {
     "end_time": "2020-12-26T18:26:18.570285Z",
     "start_time": "2020-12-26T18:26:18.523236Z"
    }
   },
   "outputs": [],
   "source": [
    "# Create a dataframe and convert to excel\n",
    "df = pd.DataFrame(list(zip(province, total_pop, lat_list, lon_list)),columns=['Province','Total','lat','lon'])\n",
    "\n",
    "df.to_excel('pop_province.xlsx') \n",
    "\n"
   ]
  },
  {
   "cell_type": "markdown",
   "metadata": {},
   "source": [
    "## Create city dataset"
   ]
  },
  {
   "cell_type": "code",
   "execution_count": 48,
   "metadata": {
    "ExecuteTime": {
     "end_time": "2020-12-22T14:38:23.462528Z",
     "start_time": "2020-12-22T14:38:22.746330Z"
    }
   },
   "outputs": [],
   "source": [
    "# Associate to each city a latitude and a longitude\n",
    "data_file = pd.read_excel('Elenco-comuni-italiani.xls')\n",
    "data_file['Denominazione in italiano'] = data_file['Denominazione in italiano'].str.lower()\n",
    "\n",
    "cities = list(data_file['Denominazione in italiano'])\n",
    "region_code = list(data_file['Codice Regione'])\n",
    "region = list(data_file['Denominazione Regione'])\n",
    "province = list(data_file[\"Provincia\"])\n",
    "car = list(data_file[\"Sigla automobilistica\"])"
   ]
  },
  {
   "cell_type": "code",
   "execution_count": 47,
   "metadata": {
    "ExecuteTime": {
     "end_time": "2020-12-22T14:38:22.648770Z",
     "start_time": "2020-12-22T14:38:19.920696Z"
    },
    "scrolled": true
   },
   "outputs": [
    {
     "name": "stdout",
     "output_type": "stream",
     "text": [
      "Completeness : 0.0%"
     ]
    }
   ],
   "source": [
    "lat_list = []\n",
    "lon_list = []\n",
    "\n",
    "geolocator = Nominatim(user_agent='myapplication')\n",
    "\n",
    "patience = 1\n",
    "i = 0 \n",
    "\n",
    "for prov in province:\n",
    "    \n",
    "    if ( i % patience == 0 ):\n",
    "        sys.stdout.write(\"\\rCompleteness : \"+str(round(i/len(province)*100,1))+\"%\")\n",
    "\n",
    "    location = geolocator.geocode(prov)\n",
    "    lat = location.raw['lat']\n",
    "    lon = location.raw['lon']\n",
    "    \n",
    "    lat_list.append(lat)\n",
    "    lon_list.append(lon)\n",
    "    i=i+1"
   ]
  },
  {
   "cell_type": "code",
   "execution_count": 51,
   "metadata": {
    "ExecuteTime": {
     "end_time": "2020-12-22T14:39:14.749097Z",
     "start_time": "2020-12-22T14:39:14.716745Z"
    }
   },
   "outputs": [],
   "source": [
    "# Create a dataframe and convert to excel\n",
    "df = pd.DataFrame(list(zip(region_code, region, cities, province, car, lat_list, lon_list)),columns=['region_code','region','city','province','car','lat','lon'])\n",
    "\n",
    "df.to_excel('italian_city.xlsx') \n"
   ]
  },
  {
   "cell_type": "code",
   "execution_count": 52,
   "metadata": {
    "ExecuteTime": {
     "end_time": "2020-12-22T14:39:15.168816Z",
     "start_time": "2020-12-22T14:39:15.097598Z"
    }
   },
   "outputs": [
    {
     "data": {
      "text/html": [
       "<div>\n",
       "<style scoped>\n",
       "    .dataframe tbody tr th:only-of-type {\n",
       "        vertical-align: middle;\n",
       "    }\n",
       "\n",
       "    .dataframe tbody tr th {\n",
       "        vertical-align: top;\n",
       "    }\n",
       "\n",
       "    .dataframe thead th {\n",
       "        text-align: right;\n",
       "    }\n",
       "</style>\n",
       "<table border=\"1\" class=\"dataframe\">\n",
       "  <thead>\n",
       "    <tr style=\"text-align: right;\">\n",
       "      <th></th>\n",
       "      <th>region_code</th>\n",
       "      <th>region</th>\n",
       "      <th>city</th>\n",
       "      <th>province</th>\n",
       "      <th>car</th>\n",
       "      <th>lat</th>\n",
       "      <th>lon</th>\n",
       "    </tr>\n",
       "  </thead>\n",
       "  <tbody>\n",
       "    <tr>\n",
       "      <th>0</th>\n",
       "      <td>1</td>\n",
       "      <td>Piemonte</td>\n",
       "      <td>agliè</td>\n",
       "      <td>Torino</td>\n",
       "      <td>TO</td>\n",
       "      <td>45.067755</td>\n",
       "      <td>7.682489</td>\n",
       "    </tr>\n",
       "    <tr>\n",
       "      <th>1</th>\n",
       "      <td>1</td>\n",
       "      <td>Piemonte</td>\n",
       "      <td>airasca</td>\n",
       "      <td>Torino</td>\n",
       "      <td>TO</td>\n",
       "      <td>45.067755</td>\n",
       "      <td>7.682489</td>\n",
       "    </tr>\n",
       "    <tr>\n",
       "      <th>2</th>\n",
       "      <td>1</td>\n",
       "      <td>Piemonte</td>\n",
       "      <td>ala di stura</td>\n",
       "      <td>Torino</td>\n",
       "      <td>TO</td>\n",
       "      <td>45.067755</td>\n",
       "      <td>7.682489</td>\n",
       "    </tr>\n",
       "    <tr>\n",
       "      <th>3</th>\n",
       "      <td>1</td>\n",
       "      <td>Piemonte</td>\n",
       "      <td>albiano d'ivrea</td>\n",
       "      <td>Torino</td>\n",
       "      <td>TO</td>\n",
       "      <td>45.067755</td>\n",
       "      <td>7.682489</td>\n",
       "    </tr>\n",
       "  </tbody>\n",
       "</table>\n",
       "</div>"
      ],
      "text/plain": [
       "   region_code    region             city province car        lat       lon\n",
       "0            1  Piemonte            agliè   Torino  TO  45.067755  7.682489\n",
       "1            1  Piemonte          airasca   Torino  TO  45.067755  7.682489\n",
       "2            1  Piemonte     ala di stura   Torino  TO  45.067755  7.682489\n",
       "3            1  Piemonte  albiano d'ivrea   Torino  TO  45.067755  7.682489"
      ]
     },
     "execution_count": 52,
     "metadata": {},
     "output_type": "execute_result"
    }
   ],
   "source": [
    "# Read excel file\n",
    "df = pd.read_excel('italian_city.xlsx',engine='openpyxl',index_col=0,header=[0])\n",
    "\n",
    "df"
   ]
  },
  {
   "cell_type": "markdown",
   "metadata": {},
   "source": [
    "## Create region dataset"
   ]
  },
  {
   "cell_type": "code",
   "execution_count": null,
   "metadata": {},
   "outputs": [],
   "source": [
    "# Create cities list of Italy\n",
    "dataset = pd.read_excel('italian_city_dataset.xlsx',engine='openpyxl')\n",
    "dataset['city'] = dataset['city'].str.lower()\n",
    "dataset['region'] = dataset['region'].str.lower()\n",
    "\n",
    "cities = list(dataset['city'])\n",
    "\n",
    "code_region_list = list(zip(dataset['region_code'], dataset['region']))\n",
    "\n",
    "# Take unique tuple\n",
    "code_region_unique = list(set(code_region_list)) \n",
    "\n",
    "regions = []\n",
    "code_regions = []\n",
    "\n",
    "latitude = list(dataset['lat'])\n",
    "longitude = list(dataset['lon'])\n",
    "\n",
    "for i in range(len(code_region_unique)):\n",
    "    code_regions.append(code_region_unique[i][0])\n",
    "    regions.append(code_region_unique[i][1])\n",
    "    \n",
    "capitals = ['roma','catanzaro','venezia','milano','trento','ancona','cagliari',\n",
    "            'perugia',\"l'aquila\",'firenze','bari','aosta','trieste','torino',\n",
    "            'genova','napoli','potenza','bologna','palermo','campobasso']\n",
    "\n",
    "df = pd.DataFrame(data=list(zip(code_regions,regions,capitals)),columns=['region_code','region','capitals'])\n",
    "\n",
    "for cap in capitals:\n",
    "    mask = df['capitals']==str(cap)\n",
    "    df.loc[mask, 'lat'] = dataset[dataset['city']==cap]['lat'].values[0]\n",
    "    df.loc[mask, 'lon'] = dataset[dataset['city']==cap]['lon'].values[0]\n",
    "\n",
    "df.to_excel('italian_regions_dataset.xlsx') "
   ]
  },
  {
   "cell_type": "code",
   "execution_count": null,
   "metadata": {},
   "outputs": [],
   "source": []
  },
  {
   "cell_type": "code",
   "execution_count": null,
   "metadata": {},
   "outputs": [],
   "source": []
  }
 ],
 "metadata": {
  "kernelspec": {
   "display_name": "Python 3",
   "language": "python",
   "name": "python3"
  },
  "language_info": {
   "codemirror_mode": {
    "name": "ipython",
    "version": 3
   },
   "file_extension": ".py",
   "mimetype": "text/x-python",
   "name": "python",
   "nbconvert_exporter": "python",
   "pygments_lexer": "ipython3",
   "version": "3.7.9"
  },
  "varInspector": {
   "cols": {
    "lenName": 16,
    "lenType": 16,
    "lenVar": 40
   },
   "kernels_config": {
    "python": {
     "delete_cmd_postfix": "",
     "delete_cmd_prefix": "del ",
     "library": "var_list.py",
     "varRefreshCmd": "print(var_dic_list())"
    },
    "r": {
     "delete_cmd_postfix": ") ",
     "delete_cmd_prefix": "rm(",
     "library": "var_list.r",
     "varRefreshCmd": "cat(var_dic_list()) "
    }
   },
   "types_to_exclude": [
    "module",
    "function",
    "builtin_function_or_method",
    "instance",
    "_Feature"
   ],
   "window_display": false
  }
 },
 "nbformat": 4,
 "nbformat_minor": 4
}
