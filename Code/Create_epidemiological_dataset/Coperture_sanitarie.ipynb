{
 "cells": [
  {
   "cell_type": "markdown",
   "metadata": {},
   "source": [
    "# Dati sanitari dal sito wired"
   ]
  },
  {
   "cell_type": "code",
   "execution_count": 1,
   "metadata": {},
   "outputs": [],
   "source": [
    "import pandas as pd\n",
    "\n",
    "vaccine_data = pd.read_excel(\"Vaccini d'Italia 2013-2018.xlsx\", sheet_name=1, engine='openpyxl', header=0)"
   ]
  },
  {
   "cell_type": "code",
   "execution_count": 2,
   "metadata": {},
   "outputs": [
    {
     "data": {
      "text/html": [
       "<div>\n",
       "<style scoped>\n",
       "    .dataframe tbody tr th:only-of-type {\n",
       "        vertical-align: middle;\n",
       "    }\n",
       "\n",
       "    .dataframe tbody tr th {\n",
       "        vertical-align: top;\n",
       "    }\n",
       "\n",
       "    .dataframe thead th {\n",
       "        text-align: right;\n",
       "    }\n",
       "</style>\n",
       "<table border=\"1\" class=\"dataframe\">\n",
       "  <thead>\n",
       "    <tr style=\"text-align: right;\">\n",
       "      <th></th>\n",
       "      <th>Regione</th>\n",
       "      <th>Provincia</th>\n",
       "      <th>Asl</th>\n",
       "      <th>Distretto</th>\n",
       "      <th>Comune</th>\n",
       "      <th>IstatCode</th>\n",
       "      <th>Anno</th>\n",
       "      <th>Patologia</th>\n",
       "      <th>Copertura</th>\n",
       "    </tr>\n",
       "  </thead>\n",
       "  <tbody>\n",
       "    <tr>\n",
       "      <th>0</th>\n",
       "      <td>Abruzzo</td>\n",
       "      <td>L’Aquila</td>\n",
       "      <td>Asl 1 Avezzano Sulmona L’Aquila</td>\n",
       "      <td>L'Aquila</td>\n",
       "      <td>Acciano</td>\n",
       "      <td>66001.0</td>\n",
       "      <td>2013.0</td>\n",
       "      <td>Difterite</td>\n",
       "      <td>96.2</td>\n",
       "    </tr>\n",
       "    <tr>\n",
       "      <th>1</th>\n",
       "      <td>Abruzzo</td>\n",
       "      <td>L’Aquila</td>\n",
       "      <td>Asl 1 Avezzano Sulmona L’Aquila</td>\n",
       "      <td>L'Aquila</td>\n",
       "      <td>Acciano</td>\n",
       "      <td>66001.0</td>\n",
       "      <td>2013.0</td>\n",
       "      <td>Epatite B</td>\n",
       "      <td>96.2</td>\n",
       "    </tr>\n",
       "    <tr>\n",
       "      <th>2</th>\n",
       "      <td>Abruzzo</td>\n",
       "      <td>L’Aquila</td>\n",
       "      <td>Asl 1 Avezzano Sulmona L’Aquila</td>\n",
       "      <td>L'Aquila</td>\n",
       "      <td>Acciano</td>\n",
       "      <td>66001.0</td>\n",
       "      <td>2013.0</td>\n",
       "      <td>Hib</td>\n",
       "      <td>96.2</td>\n",
       "    </tr>\n",
       "    <tr>\n",
       "      <th>3</th>\n",
       "      <td>Abruzzo</td>\n",
       "      <td>L’Aquila</td>\n",
       "      <td>Asl 1 Avezzano Sulmona L’Aquila</td>\n",
       "      <td>L'Aquila</td>\n",
       "      <td>Acciano</td>\n",
       "      <td>66001.0</td>\n",
       "      <td>2013.0</td>\n",
       "      <td>Meningococco</td>\n",
       "      <td>67.9</td>\n",
       "    </tr>\n",
       "    <tr>\n",
       "      <th>4</th>\n",
       "      <td>Abruzzo</td>\n",
       "      <td>L’Aquila</td>\n",
       "      <td>Asl 1 Avezzano Sulmona L’Aquila</td>\n",
       "      <td>L'Aquila</td>\n",
       "      <td>Acciano</td>\n",
       "      <td>66001.0</td>\n",
       "      <td>2013.0</td>\n",
       "      <td>Morbillo</td>\n",
       "      <td>95.4</td>\n",
       "    </tr>\n",
       "    <tr>\n",
       "      <th>...</th>\n",
       "      <td>...</td>\n",
       "      <td>...</td>\n",
       "      <td>...</td>\n",
       "      <td>...</td>\n",
       "      <td>...</td>\n",
       "      <td>...</td>\n",
       "      <td>...</td>\n",
       "      <td>...</td>\n",
       "      <td>...</td>\n",
       "    </tr>\n",
       "    <tr>\n",
       "      <th>491189</th>\n",
       "      <td>Veneto</td>\n",
       "      <td>Verona</td>\n",
       "      <td>Ulss 9 Scaligera</td>\n",
       "      <td>Ulss 9 Scaligera</td>\n",
       "      <td>Zimella</td>\n",
       "      <td>23098.0</td>\n",
       "      <td>2018.0</td>\n",
       "      <td>Pneumococco</td>\n",
       "      <td>79.0</td>\n",
       "    </tr>\n",
       "    <tr>\n",
       "      <th>491190</th>\n",
       "      <td>Veneto</td>\n",
       "      <td>Verona</td>\n",
       "      <td>Ulss 9 Scaligera</td>\n",
       "      <td>Ulss 9 Scaligera</td>\n",
       "      <td>Zimella</td>\n",
       "      <td>23098.0</td>\n",
       "      <td>2018.0</td>\n",
       "      <td>Polio</td>\n",
       "      <td>93.7</td>\n",
       "    </tr>\n",
       "    <tr>\n",
       "      <th>491191</th>\n",
       "      <td>Veneto</td>\n",
       "      <td>Verona</td>\n",
       "      <td>Ulss 9 Scaligera</td>\n",
       "      <td>Ulss 9 Scaligera</td>\n",
       "      <td>Zimella</td>\n",
       "      <td>23098.0</td>\n",
       "      <td>2018.0</td>\n",
       "      <td>Tetano</td>\n",
       "      <td>93.7</td>\n",
       "    </tr>\n",
       "    <tr>\n",
       "      <th>491192</th>\n",
       "      <td>Veneto</td>\n",
       "      <td>Verona</td>\n",
       "      <td>Ulss 9 Scaligera</td>\n",
       "      <td>Ulss 9 Scaligera</td>\n",
       "      <td>Zimella</td>\n",
       "      <td>23098.0</td>\n",
       "      <td>2018.0</td>\n",
       "      <td>Parotite</td>\n",
       "      <td>92.2</td>\n",
       "    </tr>\n",
       "    <tr>\n",
       "      <th>491193</th>\n",
       "      <td>Veneto</td>\n",
       "      <td>Verona</td>\n",
       "      <td>Ulss 9 Scaligera</td>\n",
       "      <td>Ulss 9 Scaligera</td>\n",
       "      <td>Zimella</td>\n",
       "      <td>23098.0</td>\n",
       "      <td>2018.0</td>\n",
       "      <td>Rosolia</td>\n",
       "      <td>92.2</td>\n",
       "    </tr>\n",
       "  </tbody>\n",
       "</table>\n",
       "<p>491194 rows × 9 columns</p>\n",
       "</div>"
      ],
      "text/plain": [
       "        Regione Provincia                              Asl         Distretto  \\\n",
       "0       Abruzzo  L’Aquila  Asl 1 Avezzano Sulmona L’Aquila          L'Aquila   \n",
       "1       Abruzzo  L’Aquila  Asl 1 Avezzano Sulmona L’Aquila          L'Aquila   \n",
       "2       Abruzzo  L’Aquila  Asl 1 Avezzano Sulmona L’Aquila          L'Aquila   \n",
       "3       Abruzzo  L’Aquila  Asl 1 Avezzano Sulmona L’Aquila          L'Aquila   \n",
       "4       Abruzzo  L’Aquila  Asl 1 Avezzano Sulmona L’Aquila          L'Aquila   \n",
       "...         ...       ...                              ...               ...   \n",
       "491189   Veneto    Verona                 Ulss 9 Scaligera  Ulss 9 Scaligera   \n",
       "491190   Veneto    Verona                 Ulss 9 Scaligera  Ulss 9 Scaligera   \n",
       "491191   Veneto    Verona                 Ulss 9 Scaligera  Ulss 9 Scaligera   \n",
       "491192   Veneto    Verona                 Ulss 9 Scaligera  Ulss 9 Scaligera   \n",
       "491193   Veneto    Verona                 Ulss 9 Scaligera  Ulss 9 Scaligera   \n",
       "\n",
       "         Comune  IstatCode    Anno     Patologia  Copertura  \n",
       "0       Acciano    66001.0  2013.0     Difterite       96.2  \n",
       "1       Acciano    66001.0  2013.0     Epatite B       96.2  \n",
       "2       Acciano    66001.0  2013.0           Hib       96.2  \n",
       "3       Acciano    66001.0  2013.0  Meningococco       67.9  \n",
       "4       Acciano    66001.0  2013.0      Morbillo       95.4  \n",
       "...         ...        ...     ...           ...        ...  \n",
       "491189  Zimella    23098.0  2018.0   Pneumococco       79.0  \n",
       "491190  Zimella    23098.0  2018.0         Polio       93.7  \n",
       "491191  Zimella    23098.0  2018.0        Tetano       93.7  \n",
       "491192  Zimella    23098.0  2018.0      Parotite       92.2  \n",
       "491193  Zimella    23098.0  2018.0       Rosolia       92.2  \n",
       "\n",
       "[491194 rows x 9 columns]"
      ]
     },
     "execution_count": 2,
     "metadata": {},
     "output_type": "execute_result"
    }
   ],
   "source": [
    "vaccine_data = vaccine_data.dropna(axis=1, how='all').dropna(axis=0, how='all')\n",
    "vaccine_data"
   ]
  },
  {
   "cell_type": "markdown",
   "metadata": {},
   "source": [
    "Elenco patologie analizzate"
   ]
  },
  {
   "cell_type": "code",
   "execution_count": 3,
   "metadata": {},
   "outputs": [
    {
     "data": {
      "text/plain": [
       "array(['Difterite', 'Epatite B', 'Hib', 'Meningococco', 'Morbillo',\n",
       "       'Pertosse', 'Pneumococco', 'Polio', 'Tetano', 'Parotite',\n",
       "       'Rosolia'], dtype=object)"
      ]
     },
     "execution_count": 3,
     "metadata": {},
     "output_type": "execute_result"
    }
   ],
   "source": [
    "vaccine_data.Patologia.unique()"
   ]
  },
  {
   "cell_type": "markdown",
   "metadata": {},
   "source": [
    "Divido per anni dal 2013 al 2018"
   ]
  },
  {
   "cell_type": "code",
   "execution_count": 4,
   "metadata": {},
   "outputs": [],
   "source": [
    "vaccine_2013 = vaccine_data[vaccine_data['Anno']==2013]\n",
    "vaccine_2014 = vaccine_data[vaccine_data['Anno']==2014]\n",
    "vaccine_2015 = vaccine_data[vaccine_data['Anno']==2015]\n",
    "vaccine_2016 = vaccine_data[vaccine_data['Anno']==2016]\n",
    "vaccine_2017 = vaccine_data[vaccine_data['Anno']==2017]\n",
    "vaccine_2018 = vaccine_data[vaccine_data['Anno']==2018]"
   ]
  },
  {
   "cell_type": "markdown",
   "metadata": {},
   "source": [
    "Elenco province per anni"
   ]
  },
  {
   "cell_type": "code",
   "execution_count": 5,
   "metadata": {},
   "outputs": [],
   "source": [
    "provincie_2013 = vaccine_2013.Provincia.unique()\n",
    "provincie_2014 = vaccine_2014.Provincia.unique()\n",
    "provincie_2015 = vaccine_2015.Provincia.unique()\n",
    "provincie_2016 = vaccine_2016.Provincia.unique()\n",
    "provincie_2017 = vaccine_2017.Provincia.unique()\n",
    "provincie_2018 = vaccine_2018.Provincia.unique() \n",
    "\n",
    "#print(provincie_2018)"
   ]
  },
  {
   "cell_type": "markdown",
   "metadata": {},
   "source": [
    "Elenco coperture vaccinali medie province per anni"
   ]
  },
  {
   "cell_type": "code",
   "execution_count": 6,
   "metadata": {},
   "outputs": [],
   "source": [
    "pd.options.mode.chained_assignment = None \n",
    "\n",
    "vaccine_2013['Copertura_media'] = vaccine_2013[('Provincia')].map( vaccine_2013.groupby(('Provincia'))['Copertura'].mean() )\n",
    "vaccine_2013_unique = vaccine_2013.drop_duplicates(subset=['Provincia'])\n",
    "\n",
    "vaccine_2014['Copertura_media'] = vaccine_2014[('Provincia')].map( vaccine_2014.groupby(('Provincia'))['Copertura'].mean() )\n",
    "vaccine_2014_unique = vaccine_2014.drop_duplicates(subset=['Provincia'])\n",
    "\n",
    "vaccine_2015['Copertura_media'] = vaccine_2015[('Provincia')].map( vaccine_2015.groupby(('Provincia'))['Copertura'].mean() )\n",
    "vaccine_2015_unique = vaccine_2015.drop_duplicates(subset=['Provincia'])\n",
    "\n",
    "vaccine_2016['Copertura_media'] = vaccine_2016[('Provincia')].map( vaccine_2016.groupby(('Provincia'))['Copertura'].mean() )\n",
    "vaccine_2016_unique = vaccine_2016.drop_duplicates(subset=['Provincia'])\n",
    "\n",
    "vaccine_2017['Copertura_media'] = vaccine_2017[('Provincia')].map( vaccine_2017.groupby(('Provincia'))['Copertura'].mean() )\n",
    "vaccine_2017_unique = vaccine_2017.drop_duplicates(subset=['Provincia'])\n",
    "\n",
    "vaccine_2018['Copertura_media'] = vaccine_2018[('Provincia')].map( vaccine_2018.groupby(('Provincia'))['Copertura'].mean() )\n",
    "vaccine_2018_unique = vaccine_2018.drop_duplicates(subset=['Provincia'])"
   ]
  },
  {
   "cell_type": "code",
   "execution_count": 7,
   "metadata": {},
   "outputs": [],
   "source": [
    "vaccine_2013_excel = vaccine_2013_unique.drop(columns=['Asl', 'Distretto', 'Comune', 'IstatCode', 'Patologia', 'Copertura'])\n",
    "vaccine_2014_excel = vaccine_2014_unique.drop(columns=['Asl', 'Distretto', 'Comune', 'IstatCode', 'Patologia', 'Copertura'])\n",
    "vaccine_2015_excel = vaccine_2015_unique.drop(columns=['Asl', 'Distretto', 'Comune', 'IstatCode', 'Patologia', 'Copertura'])\n",
    "vaccine_2016_excel = vaccine_2016_unique.drop(columns=['Asl', 'Distretto', 'Comune', 'IstatCode', 'Patologia', 'Copertura'])\n",
    "vaccine_2017_excel = vaccine_2017_unique.drop(columns=['Asl', 'Distretto', 'Comune', 'IstatCode', 'Patologia', 'Copertura'])\n",
    "vaccine_2018_excel = vaccine_2018_unique.drop(columns=['Asl', 'Distretto', 'Comune', 'IstatCode', 'Patologia', 'Copertura'])"
   ]
  },
  {
   "cell_type": "code",
   "execution_count": 8,
   "metadata": {},
   "outputs": [],
   "source": [
    "vaccine_2013_excel.to_excel('dati_sanitari_2013.xlsx')\n",
    "vaccine_2014_excel.to_excel('dati_sanitari_2014.xlsx')\n",
    "vaccine_2015_excel.to_excel('dati_sanitari_2015.xlsx')\n",
    "vaccine_2016_excel.to_excel('dati_sanitari_2016.xlsx')\n",
    "vaccine_2017_excel.to_excel('dati_sanitari_2017.xlsx')\n",
    "vaccine_2018_excel.to_excel('dati_sanitari_2018.xlsx')"
   ]
  },
  {
   "cell_type": "code",
   "execution_count": 133,
   "metadata": {},
   "outputs": [
    {
     "data": {
      "text/plain": [
       "[<matplotlib.lines.Line2D at 0x19ad0b74348>]"
      ]
     },
     "execution_count": 133,
     "metadata": {},
     "output_type": "execute_result"
    },
    {
     "data": {
      "image/png": "[encoded data removed]",
      "text/plain": [
       "<Figure size 432x288 with 1 Axes>"
      ]
     },
     "metadata": {
      "needs_background": "light"
     },
     "output_type": "display_data"
    }
   ],
   "source": [
    "import matplotlib\n",
    "import numpy as np\n",
    "import matplotlib.pyplot as plt\n",
    "%matplotlib inline  \n",
    "\n",
    "plt.plot(coperture_2018)"
   ]
  },
  {
   "cell_type": "code",
   "execution_count": null,
   "metadata": {},
   "outputs": [],
   "source": []
  }
 ],
 "metadata": {
  "kernelspec": {
   "display_name": "Python 3",
   "language": "python",
   "name": "python3"
  },
  "language_info": {
   "codemirror_mode": {
    "name": "ipython",
    "version": 3
   },
   "file_extension": ".py",
   "mimetype": "text/x-python",
   "name": "python",
   "nbconvert_exporter": "python",
   "pygments_lexer": "ipython3",
   "version": "3.7.9"
  }
 },
 "nbformat": 4,
 "nbformat_minor": 4
}
