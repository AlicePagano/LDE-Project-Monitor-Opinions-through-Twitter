{
 "cells": [
  {
   "cell_type": "code",
   "execution_count": 1,
   "metadata": {
    "ExecuteTime": {
     "end_time": "2021-02-02T17:04:20.647921Z",
     "start_time": "2021-02-02T17:04:19.472863Z"
    }
   },
   "outputs": [],
   "source": [
    "import os\n",
    "import numpy as np\n",
    "import re \n",
    "import collections\n",
    "import pandas as pd\n",
    "import matplotlib.pyplot as plt\n",
    "%matplotlib inline\n",
    "import bokeh.palettes as palette\n",
    "\n",
    "folder_name = '../filtered_data/'\n",
    "# Create data folder\n",
    "if not os.path.isdir('./'+folder_name):\n",
    "    os.mkdir('./'+folder_name)\n",
    "    \n",
    "#from matplotlib import rc\n",
    "#plt.rc('text', usetex=True)\n",
    "#plt.rc('font', family='serif')\n",
    "#plt.rcParams['text.latex.preamble'] = [r'\\boldmath']"
   ]
  },
  {
   "cell_type": "code",
   "execution_count": 2,
   "metadata": {
    "ExecuteTime": {
     "end_time": "2021-02-02T17:04:21.638951Z",
     "start_time": "2021-02-02T17:04:20.650145Z"
    }
   },
   "outputs": [],
   "source": [
    "df_2017 = pd.read_excel(folder_name+'tag_dataset_2017.xlsx',engine='openpyxl',index_col=0,header=[0,1])\n",
    "df_2018 = pd.read_excel(folder_name+'tag_dataset_2018.xlsx',engine='openpyxl',index_col=0,header=[0,1])\n",
    "df_2019 = pd.read_excel(folder_name+'tag_dataset_2019.xlsx',engine='openpyxl',index_col=0,header=[0,1])\n",
    "df_2020 = pd.read_excel(folder_name+'tag_dataset_2020.xlsx',engine='openpyxl',index_col=0,header=[0,1])\n",
    "\n",
    "data = pd.concat([df_2017,df_2018,df_2019,df_2020],ignore_index=True)\n",
    "#data = pd.concat([df_2020],ignore_index=True)\n",
    "\n",
    "# Filter only for novax people\n",
    "data = data[data[('user','tag')]==1]\n",
    "\n",
    "all_text = data[('tweet','text')].sum()"
   ]
  },
  {
   "cell_type": "code",
   "execution_count": 3,
   "metadata": {
    "ExecuteTime": {
     "end_time": "2021-02-02T17:04:21.713779Z",
     "start_time": "2021-02-02T17:04:21.642481Z"
    }
   },
   "outputs": [],
   "source": [
    "# Stopwords\n",
    "stopwords = set(line.strip() for line in open('stopwords-it.txt'))\n",
    "#stopwords = stopwords.union(set(['mr','mrs','one','two','said']))\n",
    "\n",
    "# Instantiate a dictionary, and for every word in the file, \n",
    "# Add to the dictionary if it doesn't exist. If it does, increase the count.\n",
    "wordcount = {}\n",
    "# To eliminate duplicates, remember to split by punctuation, and use case demiliters.\n",
    "for word in all_text.lower().split():\n",
    "    word = word.replace(\".\",\"\")\n",
    "    word = word.replace(\",\",\"\")\n",
    "    word = word.replace(\":\",\"\")\n",
    "    word = word.replace(\"\\\"\",\"\")\n",
    "    word = word.replace(\"!\",\"\")\n",
    "    word = word.replace(\"â€œ\",\"\")\n",
    "    word = word.replace(\"â€˜\",\"\")\n",
    "    word = word.replace(\"à\",\"a\")\n",
    "    word = word.replace(\"è\",\"e\")\n",
    "    word = word.replace(\"*\",\"\")\n",
    "    word = word.replace(\"-\",\"\")\n",
    "    word = word.replace(\"_\",\"\")\n",
    "    word = word.replace(\"#\",\"\")\n",
    "    word = word.replace(r'[\\-\\!\\@\\#\\$\\%\\^\\&\\*\\(\\)\\_\\+\\[\\]\\;\\'\\.\\,\\/\\{\\}\\:\\\"\\<\\>\\?]' , '')\n",
    "    if word not in stopwords:\n",
    "        if word not in wordcount:\n",
    "            wordcount[word] = 1\n",
    "        else:\n",
    "            wordcount[word] += 1"
   ]
  },
  {
   "cell_type": "code",
   "execution_count": 13,
   "metadata": {
    "ExecuteTime": {
     "end_time": "2021-02-02T17:08:01.883557Z",
     "start_time": "2021-02-02T17:08:01.356903Z"
    },
    "scrolled": false
   },
   "outputs": [
    {
     "name": "stdout",
     "output_type": "stream",
     "text": [
      "vaccino :  484\n",
      "libertadiscelta :  356\n",
      "noobbligovaccinale :  152\n",
      "@nonvaccinato :  120\n",
      "bambini :  93\n",
      "@clivatoscana :  84\n",
      "freevax :  66\n",
      "ministro :  66\n",
      "@giuliagrillom5s :  61\n",
      "legge :  48\n",
      "@superelis2 :  47\n",
      "@corvelva :  46\n",
      "vergogna :  45\n"
     ]
    },
    {
     "data": {
      "image/png": "[encoded data removed]",
      "text/plain": [
       "<Figure size 864x720 with 1 Axes>"
      ]
     },
     "metadata": {
      "needs_background": "light"
     },
     "output_type": "display_data"
    }
   ],
   "source": [
    "# Print most common word\n",
    "#n_print = int(input(\"How many most common words to print: \"))\n",
    "#print(\"\\nOK. The {} most common words are as follows\\n\".format(n_print))\n",
    "\n",
    "n_print = 13\n",
    "\n",
    "word_counter = collections.Counter(wordcount)\n",
    "word_counter[''] = 0\n",
    "word_counter['vaccino'] = word_counter['vaccini'] + word_counter['vaccino']\n",
    "word_counter['vaccini'] = 0\n",
    "\n",
    "#word_counter['vaccini'] = 'vaccino'\n",
    "\n",
    "for word, count in word_counter.most_common(n_print):\n",
    "    print(word, \": \", count)\n",
    "\n",
    "\n",
    "\n",
    "lst = word_counter.most_common(n_print)\n",
    "df = pd.DataFrame(lst, columns = ['Word', 'Count'])\n",
    "\n",
    "fig, ax = plt.subplots(figsize=(12,10))\n",
    "# Create bars\n",
    "ax.barh(df['Word'], df['Count'],color=palette.inferno(n_print))\n",
    "#plt.yticks(y_pos[:index], bars[:index])\n",
    "ax.grid(True, which=\"both\", ls=\"-\",color='0.93')\n",
    "ax.set_axisbelow(True)\n",
    "ax.set_xlabel(r'Word counts')\n",
    "plt.savefig(\"word_2017-2020.pdf\",format='pdf',bbox_inches = \"tight\")"
   ]
  },
  {
   "cell_type": "code",
   "execution_count": null,
   "metadata": {},
   "outputs": [],
   "source": []
  },
  {
   "cell_type": "code",
   "execution_count": null,
   "metadata": {},
   "outputs": [],
   "source": []
  }
 ],
 "metadata": {
  "kernelspec": {
   "display_name": "Python 3",
   "language": "python",
   "name": "python3"
  },
  "language_info": {
   "codemirror_mode": {
    "name": "ipython",
    "version": 3
   },
   "file_extension": ".py",
   "mimetype": "text/x-python",
   "name": "python",
   "nbconvert_exporter": "python",
   "pygments_lexer": "ipython3",
   "version": "3.7.9"
  },
  "varInspector": {
   "cols": {
    "lenName": 16,
    "lenType": 16,
    "lenVar": 40
   },
   "kernels_config": {
    "python": {
     "delete_cmd_postfix": "",
     "delete_cmd_prefix": "del ",
     "library": "var_list.py",
     "varRefreshCmd": "print(var_dic_list())"
    },
    "r": {
     "delete_cmd_postfix": ") ",
     "delete_cmd_prefix": "rm(",
     "library": "var_list.r",
     "varRefreshCmd": "cat(var_dic_list()) "
    }
   },
   "types_to_exclude": [
    "module",
    "function",
    "builtin_function_or_method",
    "instance",
    "_Feature"
   ],
   "window_display": false
  }
 },
 "nbformat": 4,
 "nbformat_minor": 4
}
