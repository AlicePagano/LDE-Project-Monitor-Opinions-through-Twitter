{
 "cells": [
  {
   "cell_type": "code",
   "execution_count": 1,
   "metadata": {
    "ExecuteTime": {
     "end_time": "2021-01-21T11:27:47.420981Z",
     "start_time": "2021-01-21T11:27:46.705311Z"
    }
   },
   "outputs": [],
   "source": [
    "# Import packages\n",
    "import os\n",
    "import tweepy as tw\n",
    "import pandas as pd\n",
    "import numpy as np\n",
    "import re \n",
    "\n",
    "folder_name = 'denominator_data/'\n",
    "# Create data folder\n",
    "if not os.path.isdir('./'+folder_name):\n",
    "    os.mkdir('./'+folder_name)\n",
    "\n",
    "file_name = \"all_denom_data.xlsx\""
   ]
  },
  {
   "cell_type": "code",
   "execution_count": 2,
   "metadata": {
    "ExecuteTime": {
     "end_time": "2021-01-21T11:27:57.891621Z",
     "start_time": "2021-01-21T11:27:47.426335Z"
    }
   },
   "outputs": [
    {
     "name": "stdout",
     "output_type": "stream",
     "text": [
      "Dataset dim: (7089, 15)\n"
     ]
    }
   ],
   "source": [
    "name_list = ['1', '2', '3', '4', '5', '6', '7', '8', '9', '10', '11',\n",
    "             '12', '13', '14', '15', '16', '17', '18', '19','20','21']\n",
    "\n",
    "df_list = []\n",
    "\n",
    "for name in name_list:\n",
    "    path = folder_name+name+'_denom_data.xlsx'\n",
    "    df = pd.read_excel(path,engine='openpyxl',header=[0])\n",
    "    df_list.append(df)\n",
    "        \n",
    "data = pd.concat(df_list,ignore_index=True)\n",
    "\n",
    "data = data.drop_duplicates(subset=['user_id'])\n",
    "\n",
    "print('Dataset dim:',data.shape) \n",
    "\n",
    "#data.to_excel(folder_name+'dataset_20'+year+'.xlsx')"
   ]
  },
  {
   "cell_type": "code",
   "execution_count": 3,
   "metadata": {
    "ExecuteTime": {
     "end_time": "2021-01-21T11:27:57.921966Z",
     "start_time": "2021-01-21T11:27:57.902154Z"
    }
   },
   "outputs": [],
   "source": [
    "cit = ['bolzano','trento']\n",
    "\n",
    "for i in range(len(cit)):\n",
    "    mask = data[\"province\"].notnull() & data[\"province\"].str.contains(fr'\\b{cit[i]}\\b', regex=True, case=False)\n",
    "    data.loc[mask,\"region\"] = cit[i]"
   ]
  },
  {
   "cell_type": "code",
   "execution_count": 4,
   "metadata": {
    "ExecuteTime": {
     "end_time": "2021-01-21T11:27:57.943067Z",
     "start_time": "2021-01-21T11:27:57.925409Z"
    }
   },
   "outputs": [],
   "source": [
    "# Associate a weight to tweet of a user\n",
    "data['weight'] = 1\n",
    "\n",
    "# Associate to each unique region the sum of the corresponding weights\n",
    "data['region_weight'] = data['region'].map( data.groupby('region')['weight'].agg('sum') )"
   ]
  },
  {
   "cell_type": "code",
   "execution_count": 5,
   "metadata": {
    "ExecuteTime": {
     "end_time": "2021-01-21T11:27:57.976394Z",
     "start_time": "2021-01-21T11:27:57.945193Z"
    }
   },
   "outputs": [
    {
     "name": "stdout",
     "output_type": "stream",
     "text": [
      "Dimension of the entire dataset (after removing duplicates regions): (21, 17)\n"
     ]
    }
   ],
   "source": [
    "data_unique_region = data.drop_duplicates(subset=['region'])\n",
    "# Convert to a file excel\n",
    "data_unique_region.to_excel(folder_name+file_name) \n",
    "print('Dimension of the entire dataset (after removing duplicates regions):',data_unique_region.shape) "
   ]
  },
  {
   "cell_type": "code",
   "execution_count": 6,
   "metadata": {
    "ExecuteTime": {
     "end_time": "2021-01-21T11:27:58.019201Z",
     "start_time": "2021-01-21T11:27:57.981674Z"
    }
   },
   "outputs": [
    {
     "name": "stdout",
     "output_type": "stream",
     "text": [
      "Dimension of the entire dataset (after removing duplicates regions): (21, 18)\n"
     ]
    },
    {
     "name": "stderr",
     "output_type": "stream",
     "text": [
      "/Users/alicepagano/anaconda3/envs/life/lib/python3.7/site-packages/ipykernel_launcher.py:5: SettingWithCopyWarning: \n",
      "A value is trying to be set on a copy of a slice from a DataFrame.\n",
      "Try using .loc[row_indexer,col_indexer] = value instead\n",
      "\n",
      "See the caveats in the documentation: https://pandas.pydata.org/pandas-docs/stable/user_guide/indexing.html#returning-a-view-versus-a-copy\n",
      "  \"\"\"\n"
     ]
    }
   ],
   "source": [
    "data_unique_region = data.drop_duplicates(subset=['region'])\n",
    "\n",
    "sum_weight = data_unique_region['region_weight'].sum()\n",
    "\n",
    "data_unique_region['percentage'] = data_unique_region['region_weight']/sum_weight*100\n",
    "\n",
    "# Convert to a file excel\n",
    "data_unique_region.to_excel(folder_name+file_name) \n",
    "print('Dimension of the entire dataset (after removing duplicates regions):',data_unique_region.shape) "
   ]
  },
  {
   "cell_type": "code",
   "execution_count": 7,
   "metadata": {
    "ExecuteTime": {
     "end_time": "2021-01-21T11:27:58.037309Z",
     "start_time": "2021-01-21T11:27:58.023886Z"
    }
   },
   "outputs": [
    {
     "data": {
      "text/plain": [
       "7089"
      ]
     },
     "execution_count": 7,
     "metadata": {},
     "output_type": "execute_result"
    }
   ],
   "source": [
    "# Check\n",
    "data_unique_region['region_weight'].sum()"
   ]
  },
  {
   "cell_type": "code",
   "execution_count": null,
   "metadata": {},
   "outputs": [],
   "source": []
  }
 ],
 "metadata": {
  "kernelspec": {
   "display_name": "Python 3",
   "language": "python",
   "name": "python3"
  },
  "language_info": {
   "codemirror_mode": {
    "name": "ipython",
    "version": 3
   },
   "file_extension": ".py",
   "mimetype": "text/x-python",
   "name": "python",
   "nbconvert_exporter": "python",
   "pygments_lexer": "ipython3",
   "version": "3.7.9"
  },
  "varInspector": {
   "cols": {
    "lenName": 16,
    "lenType": 16,
    "lenVar": 40
   },
   "kernels_config": {
    "python": {
     "delete_cmd_postfix": "",
     "delete_cmd_prefix": "del ",
     "library": "var_list.py",
     "varRefreshCmd": "print(var_dic_list())"
    },
    "r": {
     "delete_cmd_postfix": ") ",
     "delete_cmd_prefix": "rm(",
     "library": "var_list.r",
     "varRefreshCmd": "cat(var_dic_list()) "
    }
   },
   "types_to_exclude": [
    "module",
    "function",
    "builtin_function_or_method",
    "instance",
    "_Feature"
   ],
   "window_display": false
  }
 },
 "nbformat": 4,
 "nbformat_minor": 4
}
