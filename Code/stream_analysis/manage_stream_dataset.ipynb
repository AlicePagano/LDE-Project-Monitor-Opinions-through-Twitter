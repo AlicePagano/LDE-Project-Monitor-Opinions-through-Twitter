{
 "cells": [
  {
   "cell_type": "code",
   "execution_count": 7,
   "metadata": {
    "ExecuteTime": {
     "end_time": "2021-01-07T10:38:42.224862Z",
     "start_time": "2021-01-07T10:38:42.219492Z"
    }
   },
   "outputs": [],
   "source": [
    "# Import packages\n",
    "import os\n",
    "import tweepy as tw\n",
    "import pandas as pd\n",
    "import numpy as np\n",
    "import re \n",
    "\n",
    "folder_name = 'denominator_data/'\n",
    "# Create data folder\n",
    "if not os.path.isdir('./'+folder_name):\n",
    "    os.mkdir('./'+folder_name)\n",
    "\n",
    "run = 1\n",
    "\n",
    "file_name = folder_name+str(run)+\"_denom_data.xlsx\""
   ]
  },
  {
   "cell_type": "code",
   "execution_count": 9,
   "metadata": {
    "ExecuteTime": {
     "end_time": "2021-01-07T10:38:45.661953Z",
     "start_time": "2021-01-07T10:38:44.638259Z"
    }
   },
   "outputs": [],
   "source": [
    "# Create cities list of Italy\n",
    "df_city = pd.read_excel('useful_datasets/italian_city_dataset.xlsx',engine='openpyxl')\n",
    "df_city['city'] = df_city['city'].str.lower()\n",
    "df_city['region'] = df_city['region'].str.lower()\n",
    "df_city['province'] = df_city['province'].str.lower()\n",
    "\n",
    "cities                  = list(df_city['city'])\n",
    "regions_of_cities       = list(df_city['region'])\n",
    "codes_regions_of_cities = list(df_city['region_code'])\n",
    "provinces               = list(df_city['province'])\n",
    "lat_provinces           = list(df_city['lat'])\n",
    "lon_provinces           = list(df_city['lon'])\n",
    "car                     = list(df_city['car'])\n",
    "\n",
    "# Create region list of Italy\n",
    "df_region = pd.read_excel('useful_datasets/italian_regions_dataset.xlsx',engine='openpyxl',index_col=0,header=[0])\n",
    "code_regions = list(df_region['region_code'])\n",
    "regions      = list(df_region['region'])\n",
    "lat_regions  = list(df_region['lat'])\n",
    "lon_regions  = list(df_region['lon'])"
   ]
  },
  {
   "cell_type": "code",
   "execution_count": 10,
   "metadata": {
    "ExecuteTime": {
     "end_time": "2021-01-07T10:38:45.896520Z",
     "start_time": "2021-01-07T10:38:45.882448Z"
    }
   },
   "outputs": [
    {
     "name": "stdout",
     "output_type": "stream",
     "text": [
      "Dataset dim: 35\n"
     ]
    }
   ],
   "source": [
    "# Read dataset\n",
    "data = pd.read_csv('out.csv',header=[0])\n",
    "\n",
    "# Lower the characheters and remove some words\n",
    "data[\"user_location\"] = data[\"user_location\"].str.lower()\n",
    "words = ['italia','italy','','terra','earth']\n",
    "data = data[~data[\"user_location\"].isin(words)]\n",
    "\n",
    "# Replace all the special characters with a null string\n",
    "data[\"user_location\"] = data[\"user_location\"].str.replace(r'[\\-\\!\\@\\#\\$\\%\\^\\&\\*\\(\\)\\_\\+\\[\\]\\;\\'\\.\\,\\/\\{\\}\\:\\\"\\<\\>\\?]' , '')\n",
    "\n",
    "dim = data.shape[0]\n",
    "print('Dataset dim:',dim)"
   ]
  },
  {
   "cell_type": "code",
   "execution_count": 11,
   "metadata": {
    "ExecuteTime": {
     "end_time": "2021-01-07T10:39:14.497691Z",
     "start_time": "2021-01-07T10:38:46.830906Z"
    }
   },
   "outputs": [],
   "source": [
    "# If present, extract region from location information\n",
    "for i in range(len(regions)):\n",
    "    mask = data[\"user_location\"].str.contains(fr'\\b{regions[i]}\\b', regex=True, case=False)\n",
    "    data.loc[mask,\"code_region\"] = code_regions[i] \n",
    "    data.loc[mask,\"region\"]      = regions[i]   \n",
    "    data.loc[mask,\"lat_region\"] = lat_regions[i]\n",
    "    data.loc[mask,\"lon_region\"] = lon_regions[i]\n",
    "    #tweet_data.loc[mask, 'location'] = tweet_data.loc[mask, 'location'].str.replace(reg,'')\n",
    "    \n",
    "# If present, extract province from location information\n",
    "for i in range(len(cities)):\n",
    "    mask = data[\"user_location\"].str.contains(fr'\\b{cities[i]}\\b', regex=True, case=False)\n",
    "    data.loc[mask,\"city\"]         = cities[i]\n",
    "    data.loc[mask,\"province\"]     = provinces[i]\n",
    "    data.loc[mask,\"lat_province\"] = lat_provinces[i]\n",
    "    data.loc[mask,\"lon_province\"] = lon_provinces[i]\n",
    "    data.loc[mask,\"region\"]       = regions_of_cities[i] \n",
    "    data.loc[mask,\"code_region\"]  = codes_regions_of_cities[i]\n",
    "\n",
    "# If present, extract province information from car\n",
    "for i in range(len(car)):\n",
    "    mask = data[\"user_location\"].str.contains(fr'\\b{car[i]}\\b', regex=True, case=False)\n",
    "    data.loc[mask,\"province\"]     = provinces[i]\n",
    "    data.loc[mask,\"lat_province\"] = lat_provinces[i]\n",
    "    data.loc[mask,\"lon_province\"] = lon_provinces[i]\n",
    "    data.loc[mask,\"region\"]       = regions_of_cities[i] \n",
    "    data.loc[mask,\"code_region\"]  = codes_regions_of_cities[i]\n",
    "    \n",
    "# Remove row if 'region' & 'city' are null\n",
    "data = data.drop(data[(data[\"region\"].isnull()) & (data[\"city\"].isnull())].index)\n",
    "\n",
    "# If present, extract region from location information\n",
    "for i in range(len(regions)):\n",
    "    mask = data[\"region\"].str.contains(fr'\\b{regions[i]}\\b', regex=True, case=False)\n",
    "    data.loc[mask,\"lat_region\"] = lat_regions[i]\n",
    "    data.loc[mask,\"lon_region\"] = lon_regions[i]\n",
    "    \n",
    "# Remove city None\n",
    "data = data[~data[\"user_location\"].isin(['none'])]\n",
    "print('Number of rows:', data.shape[0],'out of', dim)"
   ]
  },
  {
   "cell_type": "code",
   "execution_count": 14,
   "metadata": {
    "ExecuteTime": {
     "end_time": "2021-01-07T10:40:13.316274Z",
     "start_time": "2021-01-07T10:40:13.270356Z"
    }
   },
   "outputs": [
    {
     "data": {
      "text/html": [
       "<div>\n",
       "<style scoped>\n",
       "    .dataframe tbody tr th:only-of-type {\n",
       "        vertical-align: middle;\n",
       "    }\n",
       "\n",
       "    .dataframe tbody tr th {\n",
       "        vertical-align: top;\n",
       "    }\n",
       "\n",
       "    .dataframe thead th {\n",
       "        text-align: right;\n",
       "    }\n",
       "</style>\n",
       "<table border=\"1\" class=\"dataframe\">\n",
       "  <thead>\n",
       "    <tr style=\"text-align: right;\">\n",
       "      <th></th>\n",
       "      <th>user_id</th>\n",
       "      <th>user_location</th>\n",
       "      <th>tweet_created_at</th>\n",
       "      <th>tweet_id</th>\n",
       "      <th>Unnamed: 4</th>\n",
       "      <th>code_region</th>\n",
       "      <th>region</th>\n",
       "      <th>lat_region</th>\n",
       "      <th>lon_region</th>\n",
       "      <th>city</th>\n",
       "      <th>province</th>\n",
       "      <th>lat_province</th>\n",
       "      <th>lon_province</th>\n",
       "    </tr>\n",
       "  </thead>\n",
       "  <tbody>\n",
       "    <tr>\n",
       "      <th>0</th>\n",
       "      <td>291252019</td>\n",
       "      <td>arezzo</td>\n",
       "      <td>2021-01-06 18:35:56</td>\n",
       "      <td>1346888246144471042</td>\n",
       "      <td>NaN</td>\n",
       "      <td>9.0</td>\n",
       "      <td>toscana</td>\n",
       "      <td>43.769871</td>\n",
       "      <td>11.255576</td>\n",
       "      <td>arezzo</td>\n",
       "      <td>arezzo</td>\n",
       "      <td>43.517202</td>\n",
       "      <td>11.763879</td>\n",
       "    </tr>\n",
       "    <tr>\n",
       "      <th>1</th>\n",
       "      <td>2420824336</td>\n",
       "      <td>lombardia italia</td>\n",
       "      <td>2021-01-06 18:36:00</td>\n",
       "      <td>1346888262451912711</td>\n",
       "      <td>NaN</td>\n",
       "      <td>3.0</td>\n",
       "      <td>lombardia</td>\n",
       "      <td>45.466800</td>\n",
       "      <td>9.190500</td>\n",
       "      <td>NaN</td>\n",
       "      <td>NaN</td>\n",
       "      <td>NaN</td>\n",
       "      <td>NaN</td>\n",
       "    </tr>\n",
       "    <tr>\n",
       "      <th>2</th>\n",
       "      <td>1250478054251642900</td>\n",
       "      <td>taranto italy</td>\n",
       "      <td>2021-01-06 18:36:02</td>\n",
       "      <td>1346888270353985540</td>\n",
       "      <td>NaN</td>\n",
       "      <td>16.0</td>\n",
       "      <td>puglia</td>\n",
       "      <td>41.125784</td>\n",
       "      <td>16.862029</td>\n",
       "      <td>taranto</td>\n",
       "      <td>taranto</td>\n",
       "      <td>40.548816</td>\n",
       "      <td>17.080580</td>\n",
       "    </tr>\n",
       "    <tr>\n",
       "      <th>3</th>\n",
       "      <td>564816340</td>\n",
       "      <td>milano italia  sheher</td>\n",
       "      <td>2021-01-06 18:36:08</td>\n",
       "      <td>1346888294366404611</td>\n",
       "      <td>NaN</td>\n",
       "      <td>3.0</td>\n",
       "      <td>lombardia</td>\n",
       "      <td>45.466800</td>\n",
       "      <td>9.190500</td>\n",
       "      <td>milano</td>\n",
       "      <td>milano</td>\n",
       "      <td>45.466800</td>\n",
       "      <td>9.190500</td>\n",
       "    </tr>\n",
       "    <tr>\n",
       "      <th>4</th>\n",
       "      <td>1250079154139267074</td>\n",
       "      <td>taranto puglia</td>\n",
       "      <td>2021-01-06 18:36:11</td>\n",
       "      <td>1346888308195024899</td>\n",
       "      <td>NaN</td>\n",
       "      <td>16.0</td>\n",
       "      <td>puglia</td>\n",
       "      <td>41.125784</td>\n",
       "      <td>16.862029</td>\n",
       "      <td>taranto</td>\n",
       "      <td>taranto</td>\n",
       "      <td>40.548816</td>\n",
       "      <td>17.080580</td>\n",
       "    </tr>\n",
       "  </tbody>\n",
       "</table>\n",
       "</div>"
      ],
      "text/plain": [
       "               user_id          user_location     tweet_created_at  \\\n",
       "0            291252019                 arezzo  2021-01-06 18:35:56   \n",
       "1           2420824336       lombardia italia  2021-01-06 18:36:00   \n",
       "2  1250478054251642900          taranto italy  2021-01-06 18:36:02   \n",
       "3            564816340  milano italia  sheher  2021-01-06 18:36:08   \n",
       "4  1250079154139267074         taranto puglia  2021-01-06 18:36:11   \n",
       "\n",
       "              tweet_id  Unnamed: 4  code_region     region  lat_region  \\\n",
       "0  1346888246144471042         NaN          9.0    toscana   43.769871   \n",
       "1  1346888262451912711         NaN          3.0  lombardia   45.466800   \n",
       "2  1346888270353985540         NaN         16.0     puglia   41.125784   \n",
       "3  1346888294366404611         NaN          3.0  lombardia   45.466800   \n",
       "4  1346888308195024899         NaN         16.0     puglia   41.125784   \n",
       "\n",
       "   lon_region     city province  lat_province  lon_province  \n",
       "0   11.255576   arezzo   arezzo     43.517202     11.763879  \n",
       "1    9.190500      NaN      NaN           NaN           NaN  \n",
       "2   16.862029  taranto  taranto     40.548816     17.080580  \n",
       "3    9.190500   milano   milano     45.466800      9.190500  \n",
       "4   16.862029  taranto  taranto     40.548816     17.080580  "
      ]
     },
     "execution_count": 14,
     "metadata": {},
     "output_type": "execute_result"
    }
   ],
   "source": [
    "# Convert tweet dataset into a excel file\n",
    "data.to_excel(file_name)  \n",
    "\n",
    "data.head(5)"
   ]
  },
  {
   "cell_type": "code",
   "execution_count": null,
   "metadata": {},
   "outputs": [],
   "source": []
  },
  {
   "cell_type": "code",
   "execution_count": null,
   "metadata": {},
   "outputs": [],
   "source": []
  },
  {
   "cell_type": "code",
   "execution_count": null,
   "metadata": {},
   "outputs": [],
   "source": []
  }
 ],
 "metadata": {
  "kernelspec": {
   "display_name": "Python 3",
   "language": "python",
   "name": "python3"
  },
  "language_info": {
   "codemirror_mode": {
    "name": "ipython",
    "version": 3
   },
   "file_extension": ".py",
   "mimetype": "text/x-python",
   "name": "python",
   "nbconvert_exporter": "python",
   "pygments_lexer": "ipython3",
   "version": "3.7.6"
  },
  "varInspector": {
   "cols": {
    "lenName": 16,
    "lenType": 16,
    "lenVar": 40
   },
   "kernels_config": {
    "python": {
     "delete_cmd_postfix": "",
     "delete_cmd_prefix": "del ",
     "library": "var_list.py",
     "varRefreshCmd": "print(var_dic_list())"
    },
    "r": {
     "delete_cmd_postfix": ") ",
     "delete_cmd_prefix": "rm(",
     "library": "var_list.r",
     "varRefreshCmd": "cat(var_dic_list()) "
    }
   },
   "types_to_exclude": [
    "module",
    "function",
    "builtin_function_or_method",
    "instance",
    "_Feature"
   ],
   "window_display": false
  }
 },
 "nbformat": 4,
 "nbformat_minor": 4
}
