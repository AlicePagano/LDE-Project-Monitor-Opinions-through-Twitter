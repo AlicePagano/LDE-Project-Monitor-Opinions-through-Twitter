{
 "cells": [
  {
   "cell_type": "code",
   "execution_count": 102,
   "metadata": {
    "ExecuteTime": {
     "end_time": "2021-01-27T17:15:00.247703Z",
     "start_time": "2021-01-27T17:15:00.235475Z"
    }
   },
   "outputs": [
    {
     "name": "stderr",
     "output_type": "stream",
     "text": [
      "/Users/alicepagano/anaconda3/envs/life/lib/python3.7/site-packages/ipykernel_launcher.py:19: MatplotlibDeprecationWarning: Support for setting the 'text.latex.preamble' or 'pgf.preamble' rcParam to a list of strings is deprecated since 3.3 and will be removed two minor releases later; set it to a single string instead.\n"
     ]
    }
   ],
   "source": [
    "# Import packages\n",
    "import os\n",
    "import tweepy as tw\n",
    "import pandas as pd\n",
    "import numpy as np\n",
    "import re \n",
    "\n",
    "folder_name1 = 'data/'\n",
    "folder_name = 'id_data/'\n",
    "# Create data folder\n",
    "if not os.path.isdir('./'+folder_name):\n",
    "    os.mkdir('./'+folder_name)\n",
    "    \n",
    "from matplotlib import rc\n",
    "\n",
    "# Latex rendering for plotting\n",
    "plt.rc('text', usetex=True)\n",
    "plt.rc('font', family='serif')\n",
    "plt.rcParams['text.latex.preamble'] = [r'\\boldmath']"
   ]
  },
  {
   "cell_type": "markdown",
   "metadata": {
    "heading_collapsed": true
   },
   "source": [
    "## Manipulate dataframe"
   ]
  },
  {
   "cell_type": "code",
   "execution_count": 13,
   "metadata": {
    "ExecuteTime": {
     "end_time": "2021-01-27T16:21:38.373124Z",
     "start_time": "2021-01-27T16:21:37.670858Z"
    },
    "code_folding": [],
    "hidden": true
   },
   "outputs": [
    {
     "data": {
      "text/plain": [
       "(228, 23)"
      ]
     },
     "execution_count": 13,
     "metadata": {},
     "output_type": "execute_result"
    }
   ],
   "source": [
    "df_2017 = pd.read_excel(folder_name1+'tag_dataset_2017.xlsx',engine='openpyxl',index_col=0,header=[0,1])\n",
    "df_2018 = pd.read_excel(folder_name1+'tag_dataset_2018.xlsx',engine='openpyxl',index_col=0,header=[0,1])\n",
    "df_2019 = pd.read_excel(folder_name1+'tag_dataset_2019.xlsx',engine='openpyxl',index_col=0,header=[0,1])\n",
    "df_2020 = pd.read_excel(folder_name1+'tag_dataset_2020.xlsx',engine='openpyxl',index_col=0,header=[0,1])\n",
    "\n",
    "data = pd.concat([df_2020],ignore_index=True)\n",
    "#data = pd.concat([df_2020],ignore_index=True)\n",
    "\n",
    "# Filter only for novax people\n",
    "data = data[data[('user','tag')]==1]\n",
    "\n",
    "# Fill lat and lon province for user with only the region information by associating capitals\n",
    "df_reg = pd.read_excel('../useful_datasets/italian_regions_new.xlsx',engine='openpyxl')\n",
    "\n",
    "regions = df_reg['region']\n",
    "province = df_reg['capitals']\n",
    "lat = df_reg['lat']\n",
    "lon = df_reg['lon']\n",
    "\n",
    "\n",
    "\n",
    "\n",
    "# TO FIX BOLZANO AND TRENTO PROBLEM!!!!!!!!!!!!!\n",
    "cit = ['bolzano','trento']\n",
    "for i in range(len(cit)):\n",
    "    mask = data[(\"user\",\"province\")].notnull() & data[(\"user\",\"province\")].str.contains(fr'\\b{cit[i]}\\b', regex=True, case=False)\n",
    "    data.loc[mask,(\"user\",\"region\")] = cit[i]\n",
    "\n",
    "# TO CHANGE IF WE WANT TO DO PROVINCE ANALYSIS!!!!!!!!!!!!!!!!!!\n",
    "for i in range(len(regions)):\n",
    "    # If city is null, associate latitude and longitude of the capital of the region\n",
    "    mask = data[(\"user\",\"region\")].str.contains(fr'\\b{regions[i]}\\b', regex=True, case=False)\n",
    "    data.loc[mask,(\"user\",\"province\")] = province[i] \n",
    "    data.loc[mask,(\"user\",\"lat_province\")] = lat[i] \n",
    "    data.loc[mask,(\"user\",\"lon_province\")] = lon[i]\n",
    "\n",
    "\n",
    "    \n",
    "#for i in range(len(regions)):\n",
    "#    # If city is null, associate latitude and longitude of the capital of the region\n",
    "#    mask = data[(\"user\",\"city\")].isnull() & data[(\"user\",\"region\")].str.contains(fr'\\b{regions[i]}\\b', regex=True, case=False)\n",
    "#    data.loc[mask,(\"user\",\"province\")] = province[i] \n",
    "#    data.loc[mask,(\"user\",\"lat_province\")] = lat[i] \n",
    "#    data.loc[mask,(\"user\",\"lon_province\")] = lon[i]\n",
    "    \n",
    "\n",
    "# Add column total population per province\n",
    "df_pop = pd.read_excel('../useful_datasets/abitanti_per_regione.xlsx',engine='openpyxl')\n",
    "\n",
    "region = df_pop['region']\n",
    "tweet_activity = df_pop['tweet_percentage']\n",
    "\n",
    "for i in range(len(region)):\n",
    "    mask = data[(\"user\",\"region\")].str.contains(fr'\\b{region[i]}\\b', regex=True, case=False)\n",
    "    data.loc[mask,(\"user\",\"tweet_activity\")] = tweet_activity[i] \n",
    "\n",
    "data[\"tweet\",\"if_retweet\"] = 0\n",
    "\n",
    "for i in range(len(region)):\n",
    "    mask = data[(\"tweet\",\"text\")].str.contains('RT @', regex=True, case=True)\n",
    "    data.loc[mask,(\"tweet\",\"if_retweet\")] = 1\n",
    "    \n",
    "# Add column total population per province\n",
    "#df_pop = pd.read_excel('../useful_datasets/pop_province.xlsx',engine='openpyxl')\n",
    "\n",
    "#province = df_pop['Province']\n",
    "#pop_total = df_pop['Total']\n",
    "\n",
    "#for i in range(len(province)):\n",
    "#    mask = data[(\"user\",\"province\")].str.contains(fr'\\b{province[i]}\\b', regex=True, case=False)\n",
    "#    data.loc[mask,(\"user\",\"total_population\")] = pop_total[i] \n",
    "data.shape"
   ]
  },
  {
   "cell_type": "code",
   "execution_count": 14,
   "metadata": {
    "ExecuteTime": {
     "end_time": "2021-01-27T16:21:38.758304Z",
     "start_time": "2021-01-27T16:21:38.692766Z"
    },
    "hidden": true,
    "scrolled": false
   },
   "outputs": [
    {
     "name": "stderr",
     "output_type": "stream",
     "text": [
      "/Users/alicepagano/anaconda3/envs/life/lib/python3.7/site-packages/ipykernel_launcher.py:18: SettingWithCopyWarning: \n",
      "A value is trying to be set on a copy of a slice from a DataFrame.\n",
      "Try using .loc[row_indexer,col_indexer] = value instead\n",
      "\n",
      "See the caveats in the documentation: https://pandas.pydata.org/pandas-docs/stable/user_guide/indexing.html#returning-a-view-versus-a-copy\n"
     ]
    },
    {
     "data": {
      "text/html": [
       "<div>\n",
       "<style scoped>\n",
       "    .dataframe tbody tr th:only-of-type {\n",
       "        vertical-align: middle;\n",
       "    }\n",
       "\n",
       "    .dataframe tbody tr th {\n",
       "        vertical-align: top;\n",
       "    }\n",
       "\n",
       "    .dataframe thead tr th {\n",
       "        text-align: left;\n",
       "    }\n",
       "</style>\n",
       "<table border=\"1\" class=\"dataframe\">\n",
       "  <thead>\n",
       "    <tr>\n",
       "      <th></th>\n",
       "      <th colspan=\"7\" halign=\"left\">user</th>\n",
       "      <th colspan=\"3\" halign=\"left\">tweet</th>\n",
       "      <th>...</th>\n",
       "      <th colspan=\"6\" halign=\"left\">user</th>\n",
       "      <th>tweet</th>\n",
       "      <th colspan=\"3\" halign=\"left\">user</th>\n",
       "    </tr>\n",
       "    <tr>\n",
       "      <th></th>\n",
       "      <th>screen_name</th>\n",
       "      <th>id</th>\n",
       "      <th>description</th>\n",
       "      <th>location</th>\n",
       "      <th>followers_count</th>\n",
       "      <th>favourites_count</th>\n",
       "      <th>created_at</th>\n",
       "      <th>id</th>\n",
       "      <th>created_at</th>\n",
       "      <th>text</th>\n",
       "      <th>...</th>\n",
       "      <th>city</th>\n",
       "      <th>province</th>\n",
       "      <th>lat_province</th>\n",
       "      <th>lon_province</th>\n",
       "      <th>tag</th>\n",
       "      <th>tweet_activity</th>\n",
       "      <th>if_retweet</th>\n",
       "      <th>user_weight_p</th>\n",
       "      <th>user_weight</th>\n",
       "      <th>region_weight</th>\n",
       "    </tr>\n",
       "  </thead>\n",
       "  <tbody>\n",
       "    <tr>\n",
       "      <th>0</th>\n",
       "      <td>calzelunghe17</td>\n",
       "      <td>4893362397</td>\n",
       "      <td>Leggere è una forma di felicità, non si può ob...</td>\n",
       "      <td>belluno veneto</td>\n",
       "      <td>441</td>\n",
       "      <td>29476</td>\n",
       "      <td>2016-02-09 23:18:19</td>\n",
       "      <td>1223301908783301120</td>\n",
       "      <td>2020-01-31 17:47:57.000001</td>\n",
       "      <td>RT @CLiVaToscana: Ma come? Non avevano detto c...</td>\n",
       "      <td>...</td>\n",
       "      <td>belluno</td>\n",
       "      <td>venezia</td>\n",
       "      <td>45.437191</td>\n",
       "      <td>12.334590</td>\n",
       "      <td>1</td>\n",
       "      <td>6.615884</td>\n",
       "      <td>1</td>\n",
       "      <td>0.151151</td>\n",
       "      <td>0.151151</td>\n",
       "      <td>1.964968</td>\n",
       "    </tr>\n",
       "    <tr>\n",
       "      <th>1</th>\n",
       "      <td>menelik40</td>\n",
       "      <td>519786647</td>\n",
       "      <td>None</td>\n",
       "      <td>salerno campania</td>\n",
       "      <td>1044</td>\n",
       "      <td>7659</td>\n",
       "      <td>2012-03-09 20:15:49</td>\n",
       "      <td>1223229885235200000</td>\n",
       "      <td>2020-01-31 13:01:45.000000</td>\n",
       "      <td>RT @CLiVaToscana: Ma come? Non avevano detto c...</td>\n",
       "      <td>...</td>\n",
       "      <td>salerno</td>\n",
       "      <td>napoli</td>\n",
       "      <td>40.835934</td>\n",
       "      <td>14.248783</td>\n",
       "      <td>1</td>\n",
       "      <td>7.250670</td>\n",
       "      <td>1</td>\n",
       "      <td>0.137918</td>\n",
       "      <td>0.137918</td>\n",
       "      <td>7.447588</td>\n",
       "    </tr>\n",
       "    <tr>\n",
       "      <th>2</th>\n",
       "      <td>xenonian1</td>\n",
       "      <td>3327831430</td>\n",
       "      <td>Operatore cinema/tv,fotografo,cinefilo. Amo i ...</td>\n",
       "      <td>roma italy</td>\n",
       "      <td>1406</td>\n",
       "      <td>178761</td>\n",
       "      <td>2015-06-15 19:29:51</td>\n",
       "      <td>1223221289411890944</td>\n",
       "      <td>2020-01-31 12:27:36.000000</td>\n",
       "      <td>RT @CLiVaToscana: Ma come? Non avevano detto c...</td>\n",
       "      <td>...</td>\n",
       "      <td>roma</td>\n",
       "      <td>roma</td>\n",
       "      <td>41.893320</td>\n",
       "      <td>12.482932</td>\n",
       "      <td>1</td>\n",
       "      <td>16.038934</td>\n",
       "      <td>1</td>\n",
       "      <td>0.062348</td>\n",
       "      <td>0.685831</td>\n",
       "      <td>13.716623</td>\n",
       "    </tr>\n",
       "    <tr>\n",
       "      <th>3</th>\n",
       "      <td>CLiVaToscana</td>\n",
       "      <td>923171889891209216</td>\n",
       "      <td>Comitato per la Libertà di scelta Vaccinale - ...</td>\n",
       "      <td>toscana italia</td>\n",
       "      <td>608</td>\n",
       "      <td>512</td>\n",
       "      <td>2017-10-25 12:58:25</td>\n",
       "      <td>1223175880605827072</td>\n",
       "      <td>2020-01-31 09:27:10.000000</td>\n",
       "      <td>Ma come? Non avevano detto che con la 119 era ...</td>\n",
       "      <td>...</td>\n",
       "      <td>NaN</td>\n",
       "      <td>firenze</td>\n",
       "      <td>43.769871</td>\n",
       "      <td>11.255576</td>\n",
       "      <td>1</td>\n",
       "      <td>7.490478</td>\n",
       "      <td>0</td>\n",
       "      <td>15.219322</td>\n",
       "      <td>102.263164</td>\n",
       "      <td>138.041921</td>\n",
       "    </tr>\n",
       "    <tr>\n",
       "      <th>4</th>\n",
       "      <td>AndreaLisi15</td>\n",
       "      <td>1172571984967941888</td>\n",
       "      <td>None</td>\n",
       "      <td>milano lombardia</td>\n",
       "      <td>224</td>\n",
       "      <td>6138</td>\n",
       "      <td>2019-09-13 18:05:31</td>\n",
       "      <td>1220828033847889920</td>\n",
       "      <td>2020-01-24 21:57:39.000000</td>\n",
       "      <td>RT @mirddyn_rm: Giusto, ha ragione. Oggigiorno...</td>\n",
       "      <td>...</td>\n",
       "      <td>milano</td>\n",
       "      <td>milano</td>\n",
       "      <td>45.466800</td>\n",
       "      <td>9.190500</td>\n",
       "      <td>1</td>\n",
       "      <td>19.212865</td>\n",
       "      <td>1</td>\n",
       "      <td>0.052048</td>\n",
       "      <td>0.156145</td>\n",
       "      <td>11.919097</td>\n",
       "    </tr>\n",
       "    <tr>\n",
       "      <th>...</th>\n",
       "      <td>...</td>\n",
       "      <td>...</td>\n",
       "      <td>...</td>\n",
       "      <td>...</td>\n",
       "      <td>...</td>\n",
       "      <td>...</td>\n",
       "      <td>...</td>\n",
       "      <td>...</td>\n",
       "      <td>...</td>\n",
       "      <td>...</td>\n",
       "      <td>...</td>\n",
       "      <td>...</td>\n",
       "      <td>...</td>\n",
       "      <td>...</td>\n",
       "      <td>...</td>\n",
       "      <td>...</td>\n",
       "      <td>...</td>\n",
       "      <td>...</td>\n",
       "      <td>...</td>\n",
       "      <td>...</td>\n",
       "      <td>...</td>\n",
       "    </tr>\n",
       "    <tr>\n",
       "      <th>268</th>\n",
       "      <td>colmarn</td>\n",
       "      <td>626803701</td>\n",
       "      <td>Non prævalebunt. Alumnus PoliMi et МИРЭА. Bot ...</td>\n",
       "      <td>milano lombardia</td>\n",
       "      <td>779</td>\n",
       "      <td>41346</td>\n",
       "      <td>2012-07-04 19:35:14</td>\n",
       "      <td>1303606251889349120</td>\n",
       "      <td>2020-09-09 08:08:44.000000</td>\n",
       "      <td>RT @angy_cocco: Quanti, tantissimi così...\\n#d...</td>\n",
       "      <td>...</td>\n",
       "      <td>milano</td>\n",
       "      <td>milano</td>\n",
       "      <td>45.466800</td>\n",
       "      <td>9.190500</td>\n",
       "      <td>1</td>\n",
       "      <td>19.212865</td>\n",
       "      <td>1</td>\n",
       "      <td>0.052048</td>\n",
       "      <td>0.052048</td>\n",
       "      <td>11.919097</td>\n",
       "    </tr>\n",
       "    <tr>\n",
       "      <th>270</th>\n",
       "      <td>EURybor</td>\n",
       "      <td>799007315034800128</td>\n",
       "      <td>Non mi interessa avere ragione.\\nTutta la vita...</td>\n",
       "      <td>fermo italia</td>\n",
       "      <td>167</td>\n",
       "      <td>29119</td>\n",
       "      <td>2016-11-16 21:52:43</td>\n",
       "      <td>1303575879617064960</td>\n",
       "      <td>2020-09-09 06:08:02.999999</td>\n",
       "      <td>RT @angy_cocco: Quanti, tantissimi così...\\n#d...</td>\n",
       "      <td>...</td>\n",
       "      <td>fermo</td>\n",
       "      <td>ancona</td>\n",
       "      <td>43.480120</td>\n",
       "      <td>13.218791</td>\n",
       "      <td>1</td>\n",
       "      <td>2.708421</td>\n",
       "      <td>1</td>\n",
       "      <td>0.369219</td>\n",
       "      <td>0.369219</td>\n",
       "      <td>1.107656</td>\n",
       "    </tr>\n",
       "    <tr>\n",
       "      <th>274</th>\n",
       "      <td>LUDOVICOTODINI</td>\n",
       "      <td>954758785</td>\n",
       "      <td>Self Employed - Sempre a Destra - 2008-2013 Co...</td>\n",
       "      <td>roma</td>\n",
       "      <td>3269</td>\n",
       "      <td>84920</td>\n",
       "      <td>2012-11-18 03:18:31</td>\n",
       "      <td>1277191574020067072</td>\n",
       "      <td>2020-06-28 10:46:14.000000</td>\n",
       "      <td>RT @bettabettanesi: @LUDOVICOTODINI   #Lorenzi...</td>\n",
       "      <td>...</td>\n",
       "      <td>roma</td>\n",
       "      <td>roma</td>\n",
       "      <td>41.893320</td>\n",
       "      <td>12.482932</td>\n",
       "      <td>1</td>\n",
       "      <td>16.038934</td>\n",
       "      <td>1</td>\n",
       "      <td>0.062348</td>\n",
       "      <td>0.062348</td>\n",
       "      <td>13.716623</td>\n",
       "    </tr>\n",
       "    <tr>\n",
       "      <th>275</th>\n",
       "      <td>tiecolino</td>\n",
       "      <td>433717645</td>\n",
       "      <td>La Verità rende gli uomini liberi. Non ho un p...</td>\n",
       "      <td>Napoli-Rieti</td>\n",
       "      <td>3198</td>\n",
       "      <td>83886</td>\n",
       "      <td>2011-12-10 22:56:34</td>\n",
       "      <td>1303601056627204096</td>\n",
       "      <td>2020-09-09 07:48:06.000000</td>\n",
       "      <td>RT @angy_cocco: Quanti, tantissimi così...\\n#d...</td>\n",
       "      <td>...</td>\n",
       "      <td>napoli</td>\n",
       "      <td>napoli</td>\n",
       "      <td>40.835934</td>\n",
       "      <td>14.248783</td>\n",
       "      <td>1</td>\n",
       "      <td>7.250670</td>\n",
       "      <td>1</td>\n",
       "      <td>0.137918</td>\n",
       "      <td>0.137918</td>\n",
       "      <td>7.447588</td>\n",
       "    </tr>\n",
       "    <tr>\n",
       "      <th>276</th>\n",
       "      <td>silviasilvierba</td>\n",
       "      <td>4133201997</td>\n",
       "      <td>moglie,madre e libera professionista</td>\n",
       "      <td>Milano, Lombardia</td>\n",
       "      <td>1268</td>\n",
       "      <td>31510</td>\n",
       "      <td>2015-11-07 09:43:04</td>\n",
       "      <td>1277700387697570048</td>\n",
       "      <td>2020-06-29 20:28:05.000000</td>\n",
       "      <td>RT @bettabettanesi: @LUDOVICOTODINI   #Lorenzi...</td>\n",
       "      <td>...</td>\n",
       "      <td>milano</td>\n",
       "      <td>milano</td>\n",
       "      <td>45.466800</td>\n",
       "      <td>9.190500</td>\n",
       "      <td>1</td>\n",
       "      <td>19.212865</td>\n",
       "      <td>1</td>\n",
       "      <td>0.052048</td>\n",
       "      <td>0.052048</td>\n",
       "      <td>11.919097</td>\n",
       "    </tr>\n",
       "  </tbody>\n",
       "</table>\n",
       "<p>135 rows × 26 columns</p>\n",
       "</div>"
      ],
      "text/plain": [
       "                user                       \\\n",
       "         screen_name                   id   \n",
       "0      calzelunghe17           4893362397   \n",
       "1          menelik40            519786647   \n",
       "2          xenonian1           3327831430   \n",
       "3       CLiVaToscana   923171889891209216   \n",
       "4       AndreaLisi15  1172571984967941888   \n",
       "..               ...                  ...   \n",
       "268          colmarn            626803701   \n",
       "270          EURybor   799007315034800128   \n",
       "274   LUDOVICOTODINI            954758785   \n",
       "275        tiecolino            433717645   \n",
       "276  silviasilvierba           4133201997   \n",
       "\n",
       "                                                                           \\\n",
       "                                           description           location   \n",
       "0    Leggere è una forma di felicità, non si può ob...     belluno veneto   \n",
       "1                                                 None   salerno campania   \n",
       "2    Operatore cinema/tv,fotografo,cinefilo. Amo i ...         roma italy   \n",
       "3    Comitato per la Libertà di scelta Vaccinale - ...     toscana italia   \n",
       "4                                                 None   milano lombardia   \n",
       "..                                                 ...                ...   \n",
       "268  Non prævalebunt. Alumnus PoliMi et МИРЭА. Bot ...   milano lombardia   \n",
       "270  Non mi interessa avere ragione.\\nTutta la vita...      fermo italia    \n",
       "274  Self Employed - Sempre a Destra - 2008-2013 Co...               roma   \n",
       "275  La Verità rende gli uomini liberi. Non ho un p...       Napoli-Rieti   \n",
       "276               moglie,madre e libera professionista  Milano, Lombardia   \n",
       "\n",
       "                                                                        tweet  \\\n",
       "    followers_count favourites_count          created_at                   id   \n",
       "0               441            29476 2016-02-09 23:18:19  1223301908783301120   \n",
       "1              1044             7659 2012-03-09 20:15:49  1223229885235200000   \n",
       "2              1406           178761 2015-06-15 19:29:51  1223221289411890944   \n",
       "3               608              512 2017-10-25 12:58:25  1223175880605827072   \n",
       "4               224             6138 2019-09-13 18:05:31  1220828033847889920   \n",
       "..              ...              ...                 ...                  ...   \n",
       "268             779            41346 2012-07-04 19:35:14  1303606251889349120   \n",
       "270             167            29119 2016-11-16 21:52:43  1303575879617064960   \n",
       "274            3269            84920 2012-11-18 03:18:31  1277191574020067072   \n",
       "275            3198            83886 2011-12-10 22:56:34  1303601056627204096   \n",
       "276            1268            31510 2015-11-07 09:43:04  1277700387697570048   \n",
       "\n",
       "                                \\\n",
       "                    created_at   \n",
       "0   2020-01-31 17:47:57.000001   \n",
       "1   2020-01-31 13:01:45.000000   \n",
       "2   2020-01-31 12:27:36.000000   \n",
       "3   2020-01-31 09:27:10.000000   \n",
       "4   2020-01-24 21:57:39.000000   \n",
       "..                         ...   \n",
       "268 2020-09-09 08:08:44.000000   \n",
       "270 2020-09-09 06:08:02.999999   \n",
       "274 2020-06-28 10:46:14.000000   \n",
       "275 2020-09-09 07:48:06.000000   \n",
       "276 2020-06-29 20:28:05.000000   \n",
       "\n",
       "                                                        ...     user           \\\n",
       "                                                  text  ...     city province   \n",
       "0    RT @CLiVaToscana: Ma come? Non avevano detto c...  ...  belluno  venezia   \n",
       "1    RT @CLiVaToscana: Ma come? Non avevano detto c...  ...  salerno   napoli   \n",
       "2    RT @CLiVaToscana: Ma come? Non avevano detto c...  ...     roma     roma   \n",
       "3    Ma come? Non avevano detto che con la 119 era ...  ...      NaN  firenze   \n",
       "4    RT @mirddyn_rm: Giusto, ha ragione. Oggigiorno...  ...   milano   milano   \n",
       "..                                                 ...  ...      ...      ...   \n",
       "268  RT @angy_cocco: Quanti, tantissimi così...\\n#d...  ...   milano   milano   \n",
       "270  RT @angy_cocco: Quanti, tantissimi così...\\n#d...  ...    fermo   ancona   \n",
       "274  RT @bettabettanesi: @LUDOVICOTODINI   #Lorenzi...  ...     roma     roma   \n",
       "275  RT @angy_cocco: Quanti, tantissimi così...\\n#d...  ...   napoli   napoli   \n",
       "276  RT @bettabettanesi: @LUDOVICOTODINI   #Lorenzi...  ...   milano   milano   \n",
       "\n",
       "                                                      tweet          user  \\\n",
       "    lat_province lon_province tag tweet_activity if_retweet user_weight_p   \n",
       "0      45.437191    12.334590   1       6.615884          1      0.151151   \n",
       "1      40.835934    14.248783   1       7.250670          1      0.137918   \n",
       "2      41.893320    12.482932   1      16.038934          1      0.062348   \n",
       "3      43.769871    11.255576   1       7.490478          0     15.219322   \n",
       "4      45.466800     9.190500   1      19.212865          1      0.052048   \n",
       "..           ...          ...  ..            ...        ...           ...   \n",
       "268    45.466800     9.190500   1      19.212865          1      0.052048   \n",
       "270    43.480120    13.218791   1       2.708421          1      0.369219   \n",
       "274    41.893320    12.482932   1      16.038934          1      0.062348   \n",
       "275    40.835934    14.248783   1       7.250670          1      0.137918   \n",
       "276    45.466800     9.190500   1      19.212865          1      0.052048   \n",
       "\n",
       "                               \n",
       "    user_weight region_weight  \n",
       "0      0.151151      1.964968  \n",
       "1      0.137918      7.447588  \n",
       "2      0.685831     13.716623  \n",
       "3    102.263164    138.041921  \n",
       "4      0.156145     11.919097  \n",
       "..          ...           ...  \n",
       "268    0.052048     11.919097  \n",
       "270    0.369219      1.107656  \n",
       "274    0.062348     13.716623  \n",
       "275    0.137918      7.447588  \n",
       "276    0.052048     11.919097  \n",
       "\n",
       "[135 rows x 26 columns]"
      ]
     },
     "execution_count": 14,
     "metadata": {},
     "output_type": "execute_result"
    }
   ],
   "source": [
    "# Associate a weight to each tweet of a user\n",
    "#data[('user','user_weight')] = (1 + data[('tweet','favorites_count')] + 5*data[('tweet','retweet_count')])/data[('user','total_population')]\n",
    "mask = data[(\"tweet\",\"if_retweet\")]==0\n",
    "data.loc[mask,(\"user\",\"user_weight_p\")] = (1 + data[('tweet','favorites_count')] + 5*data[('tweet','retweet_count')])/data[('user','tweet_activity')]\n",
    "  \n",
    "mask = data[(\"tweet\",\"if_retweet\")]==1 \n",
    "data.loc[mask,(\"user\",\"user_weight_p\")] = (1 + data[('tweet','favorites_count')])/data[('user','tweet_activity')]\n",
    " \n",
    "#data[('user','user_weight_p')] = (1 + data[('tweet','favorites_count')] + 5*data[('tweet','retweet_count')])/data[('user','tweet_activity')]\n",
    "\n",
    "# Associate to each unique ID the sum of the corresponding weights\n",
    "data[('user','user_weight')] = data[('user','id')].map( data['user'].groupby(('id'))['user_weight_p'].agg('sum') )\n",
    "\n",
    "data_unique_user = data.drop_duplicates(subset=[('user','id')])\n",
    "\n",
    "# Associate to each unique province the sum of the corresponding weights of all the utents\n",
    "#data[('user','province_weight')] = data[('user','province')].map( data['user'].groupby(('province'))['user_weight'].agg('sum') )\n",
    "data_unique_user[('user','region_weight')] = data_unique_user[('user','region')].map( data_unique_user['user'].groupby(('region'))['user_weight'].agg('sum') )\n",
    "\n",
    "# Associate to each unique province the sum of the corresponding weights of all the utents\n",
    "####data[('user','region_weight')] = data[('user','region')].map( data['user'].groupby(('region'))['user_weight'].agg('sum') )\n",
    "\n",
    "data_unique_user"
   ]
  },
  {
   "cell_type": "code",
   "execution_count": 15,
   "metadata": {
    "ExecuteTime": {
     "end_time": "2021-01-27T16:21:39.215601Z",
     "start_time": "2021-01-27T16:21:39.105240Z"
    },
    "hidden": true,
    "scrolled": false
   },
   "outputs": [
    {
     "name": "stdout",
     "output_type": "stream",
     "text": [
      "Dimension of the entire dataset (after removing duplicates id): (135, 26)\n"
     ]
    }
   ],
   "source": [
    "data_unique_id = data_unique_user.drop_duplicates(subset=[('user','id')])\n",
    "\n",
    "# Convert to a file excel\n",
    "data_unique_id.to_excel(folder_name+'tweet_user_dataset_20.xlsx') \n",
    "#data_unique_region.to_excel(folder_name+'tweet_region_dataset_20.xlsx') \n",
    "print('Dimension of the entire dataset (after removing duplicates id):',data_unique_id.shape) "
   ]
  },
  {
   "cell_type": "code",
   "execution_count": 16,
   "metadata": {
    "ExecuteTime": {
     "end_time": "2021-01-27T16:21:39.590703Z",
     "start_time": "2021-01-27T16:21:39.582443Z"
    },
    "hidden": true,
    "scrolled": false
   },
   "outputs": [],
   "source": [
    "# Simple check\n",
    "#data[data[('user','province')]==\"reggio nell'emilia\"].drop_duplicates(subset=[('user','id')])"
   ]
  },
  {
   "cell_type": "code",
   "execution_count": 17,
   "metadata": {
    "ExecuteTime": {
     "end_time": "2021-01-27T16:21:40.096712Z",
     "start_time": "2021-01-27T16:21:40.090005Z"
    },
    "hidden": true
   },
   "outputs": [],
   "source": [
    "#data_unique_province = data.drop_duplicates(subset=[('user','province')])\n",
    "# Convert to a file excel\n",
    "#data_unique_province.to_excel(folder_name+'tweet_province_dataset_17-18-19.xlsx') \n",
    "#print('Dimension of the entire dataset (after removing duplicates provinces):',data_unique_province.shape) "
   ]
  },
  {
   "cell_type": "markdown",
   "metadata": {},
   "source": [
    "## Overlap"
   ]
  },
  {
   "cell_type": "code",
   "execution_count": 18,
   "metadata": {
    "ExecuteTime": {
     "end_time": "2021-01-27T16:27:20.006449Z",
     "start_time": "2021-01-27T16:27:19.666723Z"
    }
   },
   "outputs": [],
   "source": [
    "df_2017 = pd.read_excel(folder_name+'tweet_user_dataset_17.xlsx',engine='openpyxl',index_col=0,header=[0,1])\n",
    "df_2018 = pd.read_excel(folder_name+'tweet_user_dataset_18.xlsx',engine='openpyxl',index_col=0,header=[0,1])\n",
    "df_2019 = pd.read_excel(folder_name+'tweet_user_dataset_19.xlsx',engine='openpyxl',index_col=0,header=[0,1])\n",
    "df_2020 = pd.read_excel(folder_name+'tweet_user_dataset_20.xlsx',engine='openpyxl',index_col=0,header=[0,1])"
   ]
  },
  {
   "cell_type": "code",
   "execution_count": 29,
   "metadata": {
    "ExecuteTime": {
     "end_time": "2021-01-27T16:34:14.409061Z",
     "start_time": "2021-01-27T16:34:14.394391Z"
    }
   },
   "outputs": [],
   "source": [
    "import gzip\n",
    "import io\n",
    "import pprint\n",
    "import upsetplot\n",
    "import pandas as pd\n",
    "from collections import defaultdict\n",
    "from matplotlib_venn import venn2, venn3\n",
    "from matplotlib import pyplot as plt\n",
    "from urllib.request import Request, urlopen"
   ]
  },
  {
   "cell_type": "code",
   "execution_count": 88,
   "metadata": {
    "ExecuteTime": {
     "end_time": "2021-01-27T16:56:26.458468Z",
     "start_time": "2021-01-27T16:56:26.385096Z"
    }
   },
   "outputs": [],
   "source": [
    "years = defaultdict(list)\n",
    "\n",
    "df_all = [[df_2017,'17'],[df_2018,'18'],[df_2019,'19'],[df_2020,'20']]\n",
    "\n",
    "for df in df_all:\n",
    "    for index, row in df[0].iterrows():\n",
    "        years[df[1]].append(row[('user','id')])\n",
    "        #print(row[('user','id')])"
   ]
  },
  {
   "cell_type": "code",
   "execution_count": 89,
   "metadata": {
    "ExecuteTime": {
     "end_time": "2021-01-27T16:56:28.677381Z",
     "start_time": "2021-01-27T16:56:28.672233Z"
    }
   },
   "outputs": [
    {
     "name": "stdout",
     "output_type": "stream",
     "text": [
      "Data structure: \n",
      "defaultdict(<class 'list'>,\n",
      "            {   '17': [...],\n",
      "                '18': [...],\n",
      "                '19': [...],\n",
      "                '20': [...]})\n"
     ]
    }
   ],
   "source": [
    "pp = pprint.PrettyPrinter(indent=4, depth=1)\n",
    "print(\"Data structure: \")\n",
    "pp.pprint(years)"
   ]
  },
  {
   "cell_type": "code",
   "execution_count": 123,
   "metadata": {
    "ExecuteTime": {
     "end_time": "2021-01-27T17:24:31.646387Z",
     "start_time": "2021-01-27T17:24:23.931977Z"
    }
   },
   "outputs": [
    {
     "data": {
      "text/plain": [
       "<matplotlib_venn._common.VennDiagram at 0x1a24a3a490>"
      ]
     },
     "execution_count": 123,
     "metadata": {},
     "output_type": "execute_result"
    },
    {
     "data": {
      "image/png": "[encoded data removed]",
      "text/plain": [
       "<Figure size 432x288 with 1 Axes>"
      ]
     },
     "metadata": {},
     "output_type": "display_data"
    }
   ],
   "source": [
    "venn3([set(years['17']), set(years['18']), set(years['19']) ], \n",
    "      set_labels = ('17', '18','19'))"
   ]
  },
  {
   "cell_type": "code",
   "execution_count": 98,
   "metadata": {
    "ExecuteTime": {
     "end_time": "2021-01-27T17:05:46.851106Z",
     "start_time": "2021-01-27T17:05:46.846656Z"
    }
   },
   "outputs": [],
   "source": [
    "years_set = dict()\n",
    "for k, v in years.items():\n",
    "    years_set[k] = set(v)"
   ]
  },
  {
   "cell_type": "code",
   "execution_count": 126,
   "metadata": {
    "ExecuteTime": {
     "end_time": "2021-01-27T17:29:19.427608Z",
     "start_time": "2021-01-27T17:29:18.897581Z"
    }
   },
   "outputs": [
    {
     "data": {
      "image/png": "[encoded data removed]",
      "text/plain": [
       "<Figure size 531.963x320 with 4 Axes>"
      ]
     },
     "metadata": {
      "needs_background": "light"
     },
     "output_type": "display_data"
    }
   ],
   "source": [
    "def plot_upset(years_set, categories, filename):\n",
    "    upset_data_sub = upsetplot.from_contents({k: v for k, v in years_set.items() if k.startswith(categories)})\n",
    "    upsetplot.plot(upset_data_sub,sort_categories_by=None,sort_by='cardinality',\n",
    "                  facecolor='darkblue',show_counts=True,orientation='horizontal')\n",
    "    plt.savefig(filename,format='pdf',bbox_inches = \"tight\")\n",
    "    return\n",
    "\n",
    "plot_upset(years_set, ('17','18','19','20'), \"./overlap.pdf\")\n"
   ]
  },
  {
   "cell_type": "code",
   "execution_count": null,
   "metadata": {},
   "outputs": [],
   "source": []
  }
 ],
 "metadata": {
  "kernelspec": {
   "display_name": "Python 3",
   "language": "python",
   "name": "python3"
  },
  "language_info": {
   "codemirror_mode": {
    "name": "ipython",
    "version": 3
   },
   "file_extension": ".py",
   "mimetype": "text/x-python",
   "name": "python",
   "nbconvert_exporter": "python",
   "pygments_lexer": "ipython3",
   "version": "3.7.6"
  },
  "varInspector": {
   "cols": {
    "lenName": 16,
    "lenType": 16,
    "lenVar": 40
   },
   "kernels_config": {
    "python": {
     "delete_cmd_postfix": "",
     "delete_cmd_prefix": "del ",
     "library": "var_list.py",
     "varRefreshCmd": "print(var_dic_list())"
    },
    "r": {
     "delete_cmd_postfix": ") ",
     "delete_cmd_prefix": "rm(",
     "library": "var_list.r",
     "varRefreshCmd": "cat(var_dic_list()) "
    }
   },
   "types_to_exclude": [
    "module",
    "function",
    "builtin_function_or_method",
    "instance",
    "_Feature"
   ],
   "window_display": false
  }
 },
 "nbformat": 4,
 "nbformat_minor": 4
}
